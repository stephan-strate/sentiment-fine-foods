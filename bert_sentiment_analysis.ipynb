{
  "nbformat": 4,
  "nbformat_minor": 0,
  "metadata": {
    "colab": {
      "name": "Sentiment analysis using BERT",
      "provenance": [],
      "authorship_tag": "ABX9TyM3H7WiG/OYZxNRY/Vywhsb",
      "include_colab_link": true
    },
    "kernelspec": {
      "name": "python3",
      "display_name": "Python 3"
    },
    "accelerator": "GPU"
  },
  "cells": [
    {
      "cell_type": "markdown",
      "metadata": {
        "id": "view-in-github",
        "colab_type": "text"
      },
      "source": [
        "<a href=\"https://colab.research.google.com/github/stephan-strate/sentiment-fine-foods/blob/master/bert_sentiment_analysis.ipynb\" target=\"_parent\"><img src=\"https://colab.research.google.com/assets/colab-badge.svg\" alt=\"Open In Colab\"/></a>"
      ]
    },
    {
      "cell_type": "code",
      "metadata": {
        "id": "W7cJgzCYmhN0"
      },
      "source": [
        "!pip install -q ktrain"
      ],
      "execution_count": 53,
      "outputs": []
    },
    {
      "cell_type": "code",
      "metadata": {
        "id": "pw-n0i11G0MI"
      },
      "source": [
        "# ensure images directory exists\n",
        "from pathlib import Path\n",
        "Path(\"images\").mkdir(parents=True, exist_ok=True)"
      ],
      "execution_count": 54,
      "outputs": []
    },
    {
      "cell_type": "code",
      "metadata": {
        "id": "3ACSU7qmmnEM"
      },
      "source": [
        "MODEL_NAME = \"distilbert-base-uncased\"\n",
        "BATCH_SIZE = 32\n",
        "EPOCHS = 2\n",
        "LEARNING_RATE = 5e-5\n",
        "MAX_LEN = 128\n",
        "RANDOM = 42\n",
        "\n",
        "TU_GREEN = \"#639a00\""
      ],
      "execution_count": 55,
      "outputs": []
    },
    {
      "cell_type": "code",
      "metadata": {
        "id": "8uc26TUAmsCb"
      },
      "source": [
        "import pandas as pd\n",
        "import numpy as np\n",
        "import matplotlib.pyplot as plt\n",
        "\n",
        "import urllib.request\n",
        "import zipfile\n",
        "\n",
        "url = \"https://storage.statc.de/datasets/amazon-fine-food/amazon-fine-food.zip\"\n",
        "filehandle, _ = urllib.request.urlretrieve(url)\n",
        "zip_file_object = zipfile.ZipFile(filehandle, \"r\")\n",
        "zip_file_object.extractall()"
      ],
      "execution_count": 56,
      "outputs": []
    },
    {
      "cell_type": "code",
      "metadata": {
        "id": "lbXoH4cYmyZ5",
        "outputId": "7ee8e86f-2f4e-43c2-ae4c-1c35de06e23f",
        "colab": {
          "base_uri": "https://localhost:8080/",
          "height": 34
        }
      },
      "source": [
        "df = pd.read_csv(\"amazon-fine-food-cleaned.csv\", delimiter=\",\", header=0)\n",
        "print(\"Dataset has {:,} rows\".format(df.shape[0]))"
      ],
      "execution_count": 57,
      "outputs": [
        {
          "output_type": "stream",
          "text": [
            "Dataset has 393,670 rows\n"
          ],
          "name": "stdout"
        }
      ]
    },
    {
      "cell_type": "code",
      "metadata": {
        "id": "jAER-Bfrm0Qq"
      },
      "source": [
        "import math\n",
        "\n",
        "def calculate_helpfulness(percentage):\n",
        "  if math.isnan(percentage):\n",
        "    return -1\n",
        "  if percentage > 0.5:\n",
        "    return 1\n",
        "  return 0\n",
        "\n",
        "df[\"Helpfulness\"] = (df[\"HelpfulnessNumerator\"] / df[\"HelpfulnessDenominator\"]).apply(calculate_helpfulness)"
      ],
      "execution_count": 58,
      "outputs": []
    },
    {
      "cell_type": "code",
      "metadata": {
        "id": "cJQ-wFVdm3cm",
        "outputId": "d50bf8ec-dfa7-4f49-9bbe-0080f98bca19",
        "colab": {
          "base_uri": "https://localhost:8080/",
          "height": 34
        }
      },
      "source": [
        "def calculate_sentiment(score):\n",
        "  if score > 3:\n",
        "    return 1\n",
        "  if score < 3:\n",
        "    return 0\n",
        "  return -1\n",
        "\n",
        "df[\"Sentiment\"] = df[\"Score\"].apply(calculate_sentiment)\n",
        "df = df[df[\"Sentiment\"] != -1]\n",
        "\n",
        "print(\"Removed Score 3 entries, {:,} rows left\".format(df_without_neutral.shape[0]))"
      ],
      "execution_count": 59,
      "outputs": [
        {
          "output_type": "stream",
          "text": [
            "Removed Score 3 entries, 363,898 rows left\n"
          ],
          "name": "stdout"
        }
      ]
    },
    {
      "cell_type": "code",
      "metadata": {
        "id": "SWJpHW9npQUw",
        "outputId": "f1402c38-8b8e-4cc7-a29f-11036ad778dc",
        "colab": {
          "base_uri": "https://localhost:8080/",
          "height": 85
        }
      },
      "source": [
        "g = df.groupby(\"Sentiment\")\n",
        "print(g.size())"
      ],
      "execution_count": 60,
      "outputs": [
        {
          "output_type": "stream",
          "text": [
            "Sentiment\n",
            "0     57082\n",
            "1    306816\n",
            "dtype: int64\n"
          ],
          "name": "stdout"
        }
      ]
    },
    {
      "cell_type": "code",
      "metadata": {
        "id": "G5m_t5B6GTIO"
      },
      "source": [
        "df_balanced = g.apply(lambda x: x.sample(30000).reset_index(drop=True))"
      ],
      "execution_count": 61,
      "outputs": []
    },
    {
      "cell_type": "code",
      "metadata": {
        "id": "BXLq5Ap2oXlE",
        "outputId": "cf17cff5-afd4-4f62-c383-b7b1ef8216ee",
        "colab": {
          "base_uri": "https://localhost:8080/",
          "height": 323
        }
      },
      "source": [
        "import ktrain\n",
        "from ktrain import text\n",
        "from sklearn.model_selection import train_test_split\n",
        "\n",
        "X_train, X_test, y_train, y_test = train_test_split(df_balanced.TextClean.values, df_balanced.Sentiment.values, test_size=0.2, random_state=RANDOM)\n",
        "\n",
        "t = text.Transformer(MODEL_NAME, maxlen=MAX_LEN, class_names=[0, 1])\n",
        "trn = t.preprocess_train(X_train, y_train)\n",
        "val = t.preprocess_test(X_test, y_test)\n",
        "\n",
        "model = t.get_classifier()\n",
        "learner = ktrain.get_learner(model, train_data=trn, val_data=val, batch_size=BATCH_SIZE)\n",
        "learner.fit(LEARNING_RATE, EPOCHS)"
      ],
      "execution_count": 62,
      "outputs": [
        {
          "output_type": "stream",
          "text": [
            "preprocessing train...\n",
            "language: en\n",
            "train sequence lengths:\n",
            "\tmean : 81\n",
            "\t95percentile : 214\n",
            "\t99percentile : 372\n"
          ],
          "name": "stdout"
        },
        {
          "output_type": "display_data",
          "data": {
            "text/html": [
              ""
            ],
            "text/plain": [
              "<IPython.core.display.HTML object>"
            ]
          },
          "metadata": {
            "tags": []
          }
        },
        {
          "output_type": "stream",
          "text": [
            "Is Multi-Label? False\n",
            "preprocessing test...\n",
            "language: en\n",
            "test sequence lengths:\n",
            "\tmean : 80\n",
            "\t95percentile : 214\n",
            "\t99percentile : 378\n"
          ],
          "name": "stdout"
        },
        {
          "output_type": "display_data",
          "data": {
            "text/html": [
              ""
            ],
            "text/plain": [
              "<IPython.core.display.HTML object>"
            ]
          },
          "metadata": {
            "tags": []
          }
        },
        {
          "output_type": "stream",
          "text": [
            "Epoch 1/2\n",
            "1500/1500 [==============================] - 662s 441ms/step - loss: 0.2153 - accuracy: 0.9134 - val_loss: 0.1643 - val_accuracy: 0.9360\n",
            "Epoch 2/2\n",
            "1500/1500 [==============================] - 661s 441ms/step - loss: 0.1210 - accuracy: 0.9553 - val_loss: 0.1686 - val_accuracy: 0.9364\n"
          ],
          "name": "stdout"
        },
        {
          "output_type": "execute_result",
          "data": {
            "text/plain": [
              "<tensorflow.python.keras.callbacks.History at 0x7ff889dabc50>"
            ]
          },
          "metadata": {
            "tags": []
          },
          "execution_count": 62
        }
      ]
    },
    {
      "cell_type": "code",
      "metadata": {
        "id": "a-IeT6OCHj6S",
        "outputId": "289ded88-089d-4dff-d11b-c86dbe12b3a4",
        "colab": {
          "base_uri": "https://localhost:8080/",
          "height": 34
        }
      },
      "source": [
        "df_except_training = df[~df.Id.isin(df_balanced.Id.values)]\n",
        "print(df_except_training.shape[0])"
      ],
      "execution_count": 63,
      "outputs": [
        {
          "output_type": "stream",
          "text": [
            "303898\n"
          ],
          "name": "stdout"
        }
      ]
    },
    {
      "cell_type": "code",
      "metadata": {
        "id": "qxYEVp5yq6UP",
        "outputId": "2da1d3e6-790e-430a-a445-e0f9dd58e65e",
        "colab": {
          "base_uri": "https://localhost:8080/",
          "height": 34
        }
      },
      "source": [
        "predictor = ktrain.get_predictor(learner.model, preproc=t)\n",
        "predictions = predictor.predict(df_except_training.TextClean.values)\n",
        "\n",
        "comparison = list(map(lambda x: x[0] == x[1], zip(predictions, df_except_training.Sentiment.values)))\n",
        "score = comparison.count(True) / len(df_except_training.Sentiment.values)\n",
        "\n",
        "print(score)"
      ],
      "execution_count": 64,
      "outputs": [
        {
          "output_type": "display_data",
          "data": {
            "text/html": [
              ""
            ],
            "text/plain": [
              "<IPython.core.display.HTML object>"
            ]
          },
          "metadata": {
            "tags": []
          }
        },
        {
          "output_type": "stream",
          "text": [
            "0.9372486821236072\n"
          ],
          "name": "stdout"
        }
      ]
    },
    {
      "cell_type": "code",
      "metadata": {
        "id": "r1_XIAiErBp4",
        "outputId": "891d2018-6a8a-4187-c49d-17374f6cd1b0",
        "colab": {
          "base_uri": "https://localhost:8080/",
          "height": 346
        }
      },
      "source": [
        "from sklearn.metrics import confusion_matrix\n",
        "\n",
        "cm = confusion_matrix(df_except_training.Sentiment.values, predictions, [0, 1], normalize=\"true\")\n",
        "\n",
        "fig = plt.figure(figsize=(7, 5))\n",
        "ax = fig.add_subplot(111)\n",
        "for (i, j), z in np.ndenumerate(cm):\n",
        "    if i == j:\n",
        "      ax.text(j, i, \"{:0.2f}\".format(z), ha=\"center\", va=\"center\", fontsize=12)\n",
        "cax = ax.matshow(cm, cmap=plt.cm.Greens, vmin=0, vmax=1)\n",
        "fig.colorbar(cax)\n",
        "ax.set_xticklabels([''] + [0, 1])\n",
        "ax.set_yticklabels([''] + [0, 1])\n",
        "plt.xlabel(\"Predicted\")\n",
        "plt.ylabel(\"True\")\n",
        "plt.title(\"Sentiment accuracy balanced\")\n",
        "\n",
        "plt.savefig(\"images/confusion_sentiment_balanced.pdf\")\n",
        "plt.show()"
      ],
      "execution_count": 65,
      "outputs": [
        {
          "output_type": "display_data",
          "data": {
            "image/png": "[encoded data removed]",
            "text/plain": [
              "<Figure size 504x360 with 2 Axes>"
            ]
          },
          "metadata": {
            "tags": [],
            "needs_background": "light"
          }
        }
      ]
    },
    {
      "cell_type": "code",
      "metadata": {
        "id": "6dVTvYjcBhBD",
        "outputId": "5fa62f5c-92ae-465c-e3c1-9cc356963a8c",
        "colab": {
          "base_uri": "https://localhost:8080/",
          "height": 34
        }
      },
      "source": [
        "df_test = df[df[\"TextClean\"].isin(df_except_training.TextClean.values)]\n",
        "print(df_test.shape[0])"
      ],
      "execution_count": 66,
      "outputs": [
        {
          "output_type": "stream",
          "text": [
            "303918\n"
          ],
          "name": "stdout"
        }
      ]
    },
    {
      "cell_type": "code",
      "metadata": {
        "id": "mAQPhttECaux",
        "outputId": "bb8e912f-99fd-4c16-da7a-b293617ea448",
        "colab": {
          "base_uri": "https://localhost:8080/",
          "height": 102
        }
      },
      "source": [
        "gh = df_test.groupby(\"Helpfulness\")\n",
        "print(gh.size())"
      ],
      "execution_count": 67,
      "outputs": [
        {
          "output_type": "stream",
          "text": [
            "Helpfulness\n",
            "-1    147488\n",
            " 0     28996\n",
            " 1    127434\n",
            "dtype: int64\n"
          ],
          "name": "stdout"
        }
      ]
    },
    {
      "cell_type": "code",
      "metadata": {
        "id": "BRoNcWHvCld2",
        "outputId": "c2036aec-ede3-4cb6-ecf5-0f09a6a7cca2",
        "colab": {
          "base_uri": "https://localhost:8080/",
          "height": 17
        }
      },
      "source": [
        "scores = []\n",
        "for group_name, group in gh:\n",
        "  predictions_group = predictor.predict(group.TextClean.values)\n",
        "\n",
        "  comparison_group = list(map(lambda x: x[0] == x[1] or x[1] == -1, zip(predictions_group, group.Sentiment.values)))\n",
        "  score_group = comparison_group.count(True) / len(group.Sentiment.values)\n",
        "  scores.append(score_group)"
      ],
      "execution_count": 68,
      "outputs": [
        {
          "output_type": "display_data",
          "data": {
            "text/html": [
              ""
            ],
            "text/plain": [
              "<IPython.core.display.HTML object>"
            ]
          },
          "metadata": {
            "tags": []
          }
        },
        {
          "output_type": "display_data",
          "data": {
            "text/html": [
              ""
            ],
            "text/plain": [
              "<IPython.core.display.HTML object>"
            ]
          },
          "metadata": {
            "tags": []
          }
        },
        {
          "output_type": "display_data",
          "data": {
            "text/html": [
              ""
            ],
            "text/plain": [
              "<IPython.core.display.HTML object>"
            ]
          },
          "metadata": {
            "tags": []
          }
        }
      ]
    },
    {
      "cell_type": "code",
      "metadata": {
        "id": "adpRyo_TERtt",
        "outputId": "7d5dfe2f-b531-4415-ac67-337841bcb6c0",
        "colab": {
          "base_uri": "https://localhost:8080/",
          "height": 34
        }
      },
      "source": [
        "print(scores)"
      ],
      "execution_count": 69,
      "outputs": [
        {
          "output_type": "stream",
          "text": [
            "[0.948090692124105, 0.9018140433163195, 0.9327651961015113]\n"
          ],
          "name": "stdout"
        }
      ]
    }
  ]
}