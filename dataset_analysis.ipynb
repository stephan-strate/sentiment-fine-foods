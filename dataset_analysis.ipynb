{
  "nbformat": 4,
  "nbformat_minor": 0,
  "metadata": {
    "colab": {
      "name": "Amazon Fine Food dataset analysis",
      "provenance": [],
      "collapsed_sections": [],
      "authorship_tag": "ABX9TyON7Xo8DN/a0UT14kNHfcbO",
      "include_colab_link": true
    },
    "kernelspec": {
      "name": "python3",
      "display_name": "Python 3"
    }
  },
  "cells": [
    {
      "cell_type": "markdown",
      "metadata": {
        "id": "view-in-github",
        "colab_type": "text"
      },
      "source": [
        "<a href=\"https://colab.research.google.com/github/stephan-strate/sentiment-fine-foods/blob/master/dataset_analysis.ipynb\" target=\"_parent\"><img src=\"https://colab.research.google.com/assets/colab-badge.svg\" alt=\"Open In Colab\"/></a>"
      ]
    },
    {
      "cell_type": "code",
      "metadata": {
        "id": "jwIhVjI_6Bqz",
        "colab_type": "code",
        "colab": {}
      },
      "source": [
        "# ensure images directory exists\n",
        "from pathlib import Path\n",
        "Path(\"images\").mkdir(parents=True, exist_ok=True)"
      ],
      "execution_count": 1,
      "outputs": []
    },
    {
      "cell_type": "code",
      "metadata": {
        "id": "3g1mkypcX3dy",
        "colab_type": "code",
        "colab": {}
      },
      "source": [
        "import pandas as pd\n",
        "import numpy as np\n",
        "\n",
        "import matplotlib.pyplot as plt\n",
        "import urllib.request\n",
        "import zipfile\n",
        "\n",
        "TU_GREEN = \"#639a00\"\n",
        "\n",
        "url = \"https://storage.statc.de/datasets/amazon-fine-food/amazon-fine-food.zip\"\n",
        "filehandle, _ = urllib.request.urlretrieve(url)\n",
        "zip_file_object = zipfile.ZipFile(filehandle, \"r\")\n",
        "zip_file_object.extractall()"
      ],
      "execution_count": 2,
      "outputs": []
    },
    {
      "cell_type": "code",
      "metadata": {
        "id": "fRvtQ4Bj8EEf",
        "colab_type": "code",
        "colab": {
          "base_uri": "https://localhost:8080/",
          "height": 34
        },
        "outputId": "9321308d-476b-4b2d-ff37-56eefea5f88a"
      },
      "source": [
        "df = pd.read_csv(\"amazon-fine-food.csv\", delimiter=\",\", header=0)\n",
        "print(\"Dataset has {:,} rows\".format(df.shape[0]))"
      ],
      "execution_count": 3,
      "outputs": [
        {
          "output_type": "stream",
          "text": [
            "Dataset has 568,454 rows\n"
          ],
          "name": "stdout"
        }
      ]
    },
    {
      "cell_type": "code",
      "metadata": {
        "id": "PMaVeb87jTFq",
        "colab_type": "code",
        "colab": {
          "base_uri": "https://localhost:8080/",
          "height": 204
        },
        "outputId": "a77a71d2-2ac0-4638-add5-bacd36bcbfcf"
      },
      "source": [
        "df[[\"HelpfulnessNumerator\", \"HelpfulnessDenominator\", \"Score\", \"Text\"]].sample(5)"
      ],
      "execution_count": 4,
      "outputs": [
        {
          "output_type": "execute_result",
          "data": {
            "text/html": [
              "<div>\n",
              "<style scoped>\n",
              "    .dataframe tbody tr th:only-of-type {\n",
              "        vertical-align: middle;\n",
              "    }\n",
              "\n",
              "    .dataframe tbody tr th {\n",
              "        vertical-align: top;\n",
              "    }\n",
              "\n",
              "    .dataframe thead th {\n",
              "        text-align: right;\n",
              "    }\n",
              "</style>\n",
              "<table border=\"1\" class=\"dataframe\">\n",
              "  <thead>\n",
              "    <tr style=\"text-align: right;\">\n",
              "      <th></th>\n",
              "      <th>HelpfulnessNumerator</th>\n",
              "      <th>HelpfulnessDenominator</th>\n",
              "      <th>Score</th>\n",
              "      <th>Text</th>\n",
              "    </tr>\n",
              "  </thead>\n",
              "  <tbody>\n",
              "    <tr>\n",
              "      <th>164770</th>\n",
              "      <td>0</td>\n",
              "      <td>0</td>\n",
              "      <td>5</td>\n",
              "      <td>Wow does my dog Pie LOVE these treats!! I was ...</td>\n",
              "    </tr>\n",
              "    <tr>\n",
              "      <th>37892</th>\n",
              "      <td>0</td>\n",
              "      <td>1</td>\n",
              "      <td>5</td>\n",
              "      <td>I really enjoy this tea and buying it through ...</td>\n",
              "    </tr>\n",
              "    <tr>\n",
              "      <th>338052</th>\n",
              "      <td>0</td>\n",
              "      <td>0</td>\n",
              "      <td>5</td>\n",
              "      <td>I've been buying cat treats for many years. Of...</td>\n",
              "    </tr>\n",
              "    <tr>\n",
              "      <th>251529</th>\n",
              "      <td>3</td>\n",
              "      <td>3</td>\n",
              "      <td>1</td>\n",
              "      <td>I bought this toor dal from SimplyBeautiful. I...</td>\n",
              "    </tr>\n",
              "    <tr>\n",
              "      <th>255322</th>\n",
              "      <td>1</td>\n",
              "      <td>1</td>\n",
              "      <td>5</td>\n",
              "      <td>This has been my go-to coffee for decades. Yes...</td>\n",
              "    </tr>\n",
              "  </tbody>\n",
              "</table>\n",
              "</div>"
            ],
            "text/plain": [
              "        HelpfulnessNumerator  ...                                               Text\n",
              "164770                     0  ...  Wow does my dog Pie LOVE these treats!! I was ...\n",
              "37892                      0  ...  I really enjoy this tea and buying it through ...\n",
              "338052                     0  ...  I've been buying cat treats for many years. Of...\n",
              "251529                     3  ...  I bought this toor dal from SimplyBeautiful. I...\n",
              "255322                     1  ...  This has been my go-to coffee for decades. Yes...\n",
              "\n",
              "[5 rows x 4 columns]"
            ]
          },
          "metadata": {
            "tags": []
          },
          "execution_count": 4
        }
      ]
    },
    {
      "cell_type": "code",
      "metadata": {
        "id": "67Jji6LRXuCK",
        "colab_type": "code",
        "colab": {
          "base_uri": "https://localhost:8080/",
          "height": 34
        },
        "outputId": "b34eb4dd-383e-4c45-d239-6a400aef3809"
      },
      "source": [
        "import re\n",
        "\n",
        "df_cleaned = df.copy()\n",
        "\n",
        "def cleanhtml(series):\n",
        "  raw_text = series.Text\n",
        "  cleanr = re.compile(\"<.*?>\")\n",
        "  clean_text = re.sub(cleanr, \" \", raw_text)\n",
        "  return clean_text\n",
        "\n",
        "# clean html content of texts\n",
        "df_cleaned[\"TextClean\"] = df_cleaned.apply(cleanhtml, axis=1)\n",
        "df_cleaned[\"Html\"] = df_cleaned.apply(lambda x: x.Text != x.TextClean, axis=1)\n",
        "print(\"Cleaned {:,} rows from html ({} %)\".format(df_cleaned.Html.sum(), round(df_cleaned.Html.sum() / len(df.index) * 100)))"
      ],
      "execution_count": 5,
      "outputs": [
        {
          "output_type": "stream",
          "text": [
            "Cleaned 147,324 rows from html (26.0 %)\n"
          ],
          "name": "stdout"
        }
      ]
    },
    {
      "cell_type": "code",
      "metadata": {
        "id": "_94m9YCZB7rO",
        "colab_type": "code",
        "colab": {
          "base_uri": "https://localhost:8080/",
          "height": 34
        },
        "outputId": "bc8fa80d-169b-4222-faff-d166fc5ef43e"
      },
      "source": [
        "# removing duplicates\n",
        "df_cleaned.drop_duplicates(subset=[\"TextClean\", \"Score\"], inplace=True)\n",
        "rows_removed = len(df.index) - len(df_cleaned.index)\n",
        "print(\"Removed {:,} duplicates ({} %)\".format(rows_removed, round(rows_removed / len(df.index) * 100)))"
      ],
      "execution_count": 6,
      "outputs": [
        {
          "output_type": "stream",
          "text": [
            "Removed 174,784 duplicates (31 %)\n"
          ],
          "name": "stdout"
        }
      ]
    },
    {
      "cell_type": "code",
      "metadata": {
        "id": "dz5Kxwt7-i87",
        "colab_type": "code",
        "colab": {
          "base_uri": "https://localhost:8080/",
          "height": 34
        },
        "outputId": "d7a9bd42-b8e8-40ef-ac20-a858842229aa"
      },
      "source": [
        "print(\"Dataset size after cleaning: {:,} / {:,} rows ({} %)\".format(len(df_cleaned.index), len(df.index), round(len(df_cleaned.index) / len(df.index) * 100)))"
      ],
      "execution_count": 7,
      "outputs": [
        {
          "output_type": "stream",
          "text": [
            "Dataset size after cleaning: 393,670 / 568,454 rows (69 %)\n"
          ],
          "name": "stdout"
        }
      ]
    },
    {
      "cell_type": "code",
      "metadata": {
        "id": "EVvI93YUPY2L",
        "colab_type": "code",
        "colab": {
          "base_uri": "https://localhost:8080/",
          "height": 385
        },
        "outputId": "0e34989b-bdf2-4694-ff13-be19bc275fc7"
      },
      "source": [
        "import statistics\n",
        "\n",
        "label_values = set(df_cleaned.Score.values)\n",
        "\n",
        "fig, axs = plt.subplots(1, 3, constrained_layout=True, figsize=(10, 5))\n",
        "\n",
        "score_distribution = axs[0]\n",
        "label_value_counts = df_cleaned.Score.value_counts()\n",
        "score_distribution.bar(list(map(str, label_values)), list(map(lambda x: label_value_counts.get(x) / len(df_cleaned.index), label_values)), color=TU_GREEN)\n",
        "score_distribution.set_title(\"Reviews\")\n",
        "score_distribution.set_xlabel(\"Scores\")\n",
        "score_distribution.set_ylabel(\"Relative count\")\n",
        "\n",
        "def mean_helpfulness(label):\n",
        "  subset = df_cleaned[df_cleaned.Score.eq(label)]\n",
        "  return statistics.mean(filter(lambda x: x is not None, map(lambda index: index.HelpfulnessNumerator / index.HelpfulnessDenominator if index.HelpfulnessDenominator > 0 else None, subset.itertuples(index=True))))\n",
        "\n",
        "helpfulness_relative_score = axs[1]\n",
        "helpfulness_relative_score.bar(list(map(str, label_values)), list(map(mean_helpfulness, label_values)), color=TU_GREEN)\n",
        "helpfulness_relative_score.set_title(\"Helpfulness\")\n",
        "helpfulness_relative_score.set_xlabel(\"Scores\")\n",
        "helpfulness_relative_score.set_ylabel(\"Mean\")\n",
        "\n",
        "def count_helpful(label):\n",
        "  subset = df_cleaned[df_cleaned.Score.eq(label)]\n",
        "  return sum(map(lambda index: index.HelpfulnessDenominator, subset.itertuples(index=True))) / len(subset.values)\n",
        "\n",
        "helpfulness_count_score = axs[2]\n",
        "helpfulness_count_score.bar(list(map(str, label_values)), list(map(count_helpful, label_values)), color=TU_GREEN)\n",
        "helpfulness_count_score.set_title(\"Helpfulness\")\n",
        "helpfulness_count_score.set_xlabel(\"Scores\")\n",
        "helpfulness_count_score.set_ylabel(\"Mean count / review\")\n",
        "\n",
        "plt.savefig(\"images/dataset_general_analysis.pdf\")\n",
        "plt.show()"
      ],
      "execution_count": 8,
      "outputs": [
        {
          "output_type": "display_data",
          "data": {
            "image/png": "[encoded data removed]",
            "text/plain": [
              "<Figure size 720x360 with 3 Axes>"
            ]
          },
          "metadata": {
            "tags": [],
            "needs_background": "light"
          }
        }
      ]
    },
    {
      "cell_type": "markdown",
      "metadata": {
        "id": "slpL1NTcV-S0",
        "colab_type": "text"
      },
      "source": [
        "For BERT it is important to determine a plausible input length of word embeddings. That is why we need to take a look at some statistics about review length (word count).\n",
        "\n",
        "We will overestimate the input token length in this case, because the input will probably contain some unknown words and therefore the tokenizer will split words into multiple parts.\n",
        "\n",
        "**Length:** 128"
      ]
    },
    {
      "cell_type": "code",
      "metadata": {
        "id": "Z5sC47QwPfd5",
        "colab_type": "code",
        "colab": {
          "base_uri": "https://localhost:8080/",
          "height": 295
        },
        "outputId": "07df91f7-b233-4d51-987d-5c054a3aa486"
      },
      "source": [
        "groups = df_cleaned.groupby(\"Score\")\n",
        "\n",
        "plt.bar(list(map(str, label_values)), list(map(lambda x: np.mean(list(map(lambda y: len(y.split(\" \")), x[1].Text.values))), groups)), color=TU_GREEN)\n",
        "plt.xlabel(\"Score\")\n",
        "plt.ylabel(\"Mean word count\")\n",
        "plt.title(\"Review length by score\")\n",
        "\n",
        "plt.savefig(\"images/dataset_review_length.pdf\")\n",
        "plt.show()"
      ],
      "execution_count": 9,
      "outputs": [
        {
          "output_type": "display_data",
          "data": {
            "image/png": "[encoded data removed]",
            "text/plain": [
              "<Figure size 432x288 with 1 Axes>"
            ]
          },
          "metadata": {
            "tags": [],
            "needs_background": "light"
          }
        }
      ]
    },
    {
      "cell_type": "code",
      "metadata": {
        "id": "KCOiO3q-MMl1",
        "colab_type": "code",
        "colab": {
          "base_uri": "https://localhost:8080/",
          "height": 312
        },
        "outputId": "6acd59bf-4efe-49e5-85f3-13e876a11258"
      },
      "source": [
        "word_counts = np.array(list(map(lambda x: len(x.split(\" \")), df_cleaned.Text.values)))\n",
        "\n",
        "plt.hist(word_counts, range=(0, 256), bins=24, color=TU_GREEN)\n",
        "plt.axvline(word_counts.mean(), color=\"k\", linestyle=\"dashed\")\n",
        "\n",
        "plt.xlabel(\"Word count\")\n",
        "plt.ylabel(\"Count\")\n",
        "plt.title(\"Review length distribution\")\n",
        "\n",
        "plt.savefig(\"images/dataset_review_length_distribution.pdf\")\n",
        "plt.show()\n",
        "\n",
        "print(\"Mean review word count: {:,.2f} tokens\".format(word_counts.mean()))"
      ],
      "execution_count": 10,
      "outputs": [
        {
          "output_type": "display_data",
          "data": {
            "image/png": "[encoded data removed]",
            "text/plain": [
              "<Figure size 432x288 with 1 Axes>"
            ]
          },
          "metadata": {
            "tags": [],
            "needs_background": "light"
          }
        },
        {
          "output_type": "stream",
          "text": [
            "Mean review word count: 81.51 tokens\n"
          ],
          "name": "stdout"
        }
      ]
    }
  ]
}