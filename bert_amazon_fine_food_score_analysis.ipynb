{
  "nbformat": 4,
  "nbformat_minor": 0,
  "metadata": {
    "colab": {
      "name": "Amazon Fine Food Score Prediction using BERT",
      "provenance": [],
      "collapsed_sections": [],
      "mount_file_id": "1JTUG_zuTwDo0wpmQW4ILtKM2TSar_4t5",
      "authorship_tag": "ABX9TyMj6qp7y9Pby4EiqUaz1vXm",
      "include_colab_link": true
    },
    "kernelspec": {
      "name": "python3",
      "display_name": "Python 3"
    },
    "accelerator": "GPU",
    "widgets": {
      "application/vnd.jupyter.widget-state+json": {
        "49fd906fd5be40f3a070ac0fbdb8cb7a": {
          "model_module": "@jupyter-widgets/controls",
          "model_name": "HBoxModel",
          "state": {
            "_view_name": "HBoxView",
            "_dom_classes": [],
            "_model_name": "HBoxModel",
            "_view_module": "@jupyter-widgets/controls",
            "_model_module_version": "1.5.0",
            "_view_count": null,
            "_view_module_version": "1.5.0",
            "box_style": "",
            "layout": "IPY_MODEL_e47520e035eb477fbcbb740034abb96b",
            "_model_module": "@jupyter-widgets/controls",
            "children": [
              "IPY_MODEL_353f5b1d49df4d5dbafb5b6af1bc8acb",
              "IPY_MODEL_aac730db09f64696a61bdcf2cc8b303a"
            ]
          }
        },
        "e47520e035eb477fbcbb740034abb96b": {
          "model_module": "@jupyter-widgets/base",
          "model_name": "LayoutModel",
          "state": {
            "_view_name": "LayoutView",
            "grid_template_rows": null,
            "right": null,
            "justify_content": null,
            "_view_module": "@jupyter-widgets/base",
            "overflow": null,
            "_model_module_version": "1.2.0",
            "_view_count": null,
            "flex_flow": null,
            "width": null,
            "min_width": null,
            "border": null,
            "align_items": null,
            "bottom": null,
            "_model_module": "@jupyter-widgets/base",
            "top": null,
            "grid_column": null,
            "overflow_y": null,
            "overflow_x": null,
            "grid_auto_flow": null,
            "grid_area": null,
            "grid_template_columns": null,
            "flex": null,
            "_model_name": "LayoutModel",
            "justify_items": null,
            "grid_row": null,
            "max_height": null,
            "align_content": null,
            "visibility": null,
            "align_self": null,
            "height": null,
            "min_height": null,
            "padding": null,
            "grid_auto_rows": null,
            "grid_gap": null,
            "max_width": null,
            "order": null,
            "_view_module_version": "1.2.0",
            "grid_template_areas": null,
            "object_position": null,
            "object_fit": null,
            "grid_auto_columns": null,
            "margin": null,
            "display": null,
            "left": null
          }
        },
        "353f5b1d49df4d5dbafb5b6af1bc8acb": {
          "model_module": "@jupyter-widgets/controls",
          "model_name": "FloatProgressModel",
          "state": {
            "_view_name": "ProgressView",
            "style": "IPY_MODEL_bb0017909bfd40f3aa2cb6b93231f5ee",
            "_dom_classes": [],
            "description": "Downloading: 100%",
            "_model_name": "FloatProgressModel",
            "bar_style": "success",
            "max": 442,
            "_view_module": "@jupyter-widgets/controls",
            "_model_module_version": "1.5.0",
            "value": 442,
            "_view_count": null,
            "_view_module_version": "1.5.0",
            "orientation": "horizontal",
            "min": 0,
            "description_tooltip": null,
            "_model_module": "@jupyter-widgets/controls",
            "layout": "IPY_MODEL_223f5d7ce6e4479a97f4c5d863a3295b"
          }
        },
        "aac730db09f64696a61bdcf2cc8b303a": {
          "model_module": "@jupyter-widgets/controls",
          "model_name": "HTMLModel",
          "state": {
            "_view_name": "HTMLView",
            "style": "IPY_MODEL_423acf71a625430abf154269b2e611f3",
            "_dom_classes": [],
            "description": "",
            "_model_name": "HTMLModel",
            "placeholder": "​",
            "_view_module": "@jupyter-widgets/controls",
            "_model_module_version": "1.5.0",
            "value": " 442/442 [00:00&lt;00:00, 516B/s]",
            "_view_count": null,
            "_view_module_version": "1.5.0",
            "description_tooltip": null,
            "_model_module": "@jupyter-widgets/controls",
            "layout": "IPY_MODEL_0a6b333b7533484ea6a8a9d5a1b4f3c2"
          }
        },
        "bb0017909bfd40f3aa2cb6b93231f5ee": {
          "model_module": "@jupyter-widgets/controls",
          "model_name": "ProgressStyleModel",
          "state": {
            "_view_name": "StyleView",
            "_model_name": "ProgressStyleModel",
            "description_width": "initial",
            "_view_module": "@jupyter-widgets/base",
            "_model_module_version": "1.5.0",
            "_view_count": null,
            "_view_module_version": "1.2.0",
            "bar_color": null,
            "_model_module": "@jupyter-widgets/controls"
          }
        },
        "223f5d7ce6e4479a97f4c5d863a3295b": {
          "model_module": "@jupyter-widgets/base",
          "model_name": "LayoutModel",
          "state": {
            "_view_name": "LayoutView",
            "grid_template_rows": null,
            "right": null,
            "justify_content": null,
            "_view_module": "@jupyter-widgets/base",
            "overflow": null,
            "_model_module_version": "1.2.0",
            "_view_count": null,
            "flex_flow": null,
            "width": null,
            "min_width": null,
            "border": null,
            "align_items": null,
            "bottom": null,
            "_model_module": "@jupyter-widgets/base",
            "top": null,
            "grid_column": null,
            "overflow_y": null,
            "overflow_x": null,
            "grid_auto_flow": null,
            "grid_area": null,
            "grid_template_columns": null,
            "flex": null,
            "_model_name": "LayoutModel",
            "justify_items": null,
            "grid_row": null,
            "max_height": null,
            "align_content": null,
            "visibility": null,
            "align_self": null,
            "height": null,
            "min_height": null,
            "padding": null,
            "grid_auto_rows": null,
            "grid_gap": null,
            "max_width": null,
            "order": null,
            "_view_module_version": "1.2.0",
            "grid_template_areas": null,
            "object_position": null,
            "object_fit": null,
            "grid_auto_columns": null,
            "margin": null,
            "display": null,
            "left": null
          }
        },
        "423acf71a625430abf154269b2e611f3": {
          "model_module": "@jupyter-widgets/controls",
          "model_name": "DescriptionStyleModel",
          "state": {
            "_view_name": "StyleView",
            "_model_name": "DescriptionStyleModel",
            "description_width": "",
            "_view_module": "@jupyter-widgets/base",
            "_model_module_version": "1.5.0",
            "_view_count": null,
            "_view_module_version": "1.2.0",
            "_model_module": "@jupyter-widgets/controls"
          }
        },
        "0a6b333b7533484ea6a8a9d5a1b4f3c2": {
          "model_module": "@jupyter-widgets/base",
          "model_name": "LayoutModel",
          "state": {
            "_view_name": "LayoutView",
            "grid_template_rows": null,
            "right": null,
            "justify_content": null,
            "_view_module": "@jupyter-widgets/base",
            "overflow": null,
            "_model_module_version": "1.2.0",
            "_view_count": null,
            "flex_flow": null,
            "width": null,
            "min_width": null,
            "border": null,
            "align_items": null,
            "bottom": null,
            "_model_module": "@jupyter-widgets/base",
            "top": null,
            "grid_column": null,
            "overflow_y": null,
            "overflow_x": null,
            "grid_auto_flow": null,
            "grid_area": null,
            "grid_template_columns": null,
            "flex": null,
            "_model_name": "LayoutModel",
            "justify_items": null,
            "grid_row": null,
            "max_height": null,
            "align_content": null,
            "visibility": null,
            "align_self": null,
            "height": null,
            "min_height": null,
            "padding": null,
            "grid_auto_rows": null,
            "grid_gap": null,
            "max_width": null,
            "order": null,
            "_view_module_version": "1.2.0",
            "grid_template_areas": null,
            "object_position": null,
            "object_fit": null,
            "grid_auto_columns": null,
            "margin": null,
            "display": null,
            "left": null
          }
        },
        "4366394a2c434d618955e90c69b7f26a": {
          "model_module": "@jupyter-widgets/controls",
          "model_name": "HBoxModel",
          "state": {
            "_view_name": "HBoxView",
            "_dom_classes": [],
            "_model_name": "HBoxModel",
            "_view_module": "@jupyter-widgets/controls",
            "_model_module_version": "1.5.0",
            "_view_count": null,
            "_view_module_version": "1.5.0",
            "box_style": "",
            "layout": "IPY_MODEL_f3ac9ade05fa4a7bb32f3dcec44e0122",
            "_model_module": "@jupyter-widgets/controls",
            "children": [
              "IPY_MODEL_2669d019cf3547169e0af2f15aa5a32e",
              "IPY_MODEL_1148bfb3edc84bd99b5639c41218580d"
            ]
          }
        },
        "f3ac9ade05fa4a7bb32f3dcec44e0122": {
          "model_module": "@jupyter-widgets/base",
          "model_name": "LayoutModel",
          "state": {
            "_view_name": "LayoutView",
            "grid_template_rows": null,
            "right": null,
            "justify_content": null,
            "_view_module": "@jupyter-widgets/base",
            "overflow": null,
            "_model_module_version": "1.2.0",
            "_view_count": null,
            "flex_flow": null,
            "width": null,
            "min_width": null,
            "border": null,
            "align_items": null,
            "bottom": null,
            "_model_module": "@jupyter-widgets/base",
            "top": null,
            "grid_column": null,
            "overflow_y": null,
            "overflow_x": null,
            "grid_auto_flow": null,
            "grid_area": null,
            "grid_template_columns": null,
            "flex": null,
            "_model_name": "LayoutModel",
            "justify_items": null,
            "grid_row": null,
            "max_height": null,
            "align_content": null,
            "visibility": null,
            "align_self": null,
            "height": null,
            "min_height": null,
            "padding": null,
            "grid_auto_rows": null,
            "grid_gap": null,
            "max_width": null,
            "order": null,
            "_view_module_version": "1.2.0",
            "grid_template_areas": null,
            "object_position": null,
            "object_fit": null,
            "grid_auto_columns": null,
            "margin": null,
            "display": null,
            "left": null
          }
        },
        "2669d019cf3547169e0af2f15aa5a32e": {
          "model_module": "@jupyter-widgets/controls",
          "model_name": "FloatProgressModel",
          "state": {
            "_view_name": "ProgressView",
            "style": "IPY_MODEL_6cc14cf5e5034f62ab44a6ecae0de519",
            "_dom_classes": [],
            "description": "Downloading: 100%",
            "_model_name": "FloatProgressModel",
            "bar_style": "success",
            "max": 231508,
            "_view_module": "@jupyter-widgets/controls",
            "_model_module_version": "1.5.0",
            "value": 231508,
            "_view_count": null,
            "_view_module_version": "1.5.0",
            "orientation": "horizontal",
            "min": 0,
            "description_tooltip": null,
            "_model_module": "@jupyter-widgets/controls",
            "layout": "IPY_MODEL_c1f70d1964a744f6836720b1fd94a489"
          }
        },
        "1148bfb3edc84bd99b5639c41218580d": {
          "model_module": "@jupyter-widgets/controls",
          "model_name": "HTMLModel",
          "state": {
            "_view_name": "HTMLView",
            "style": "IPY_MODEL_4bdf22a594fd4826b9568ad90ad4c661",
            "_dom_classes": [],
            "description": "",
            "_model_name": "HTMLModel",
            "placeholder": "​",
            "_view_module": "@jupyter-widgets/controls",
            "_model_module_version": "1.5.0",
            "value": " 232k/232k [00:00&lt;00:00, 1.01MB/s]",
            "_view_count": null,
            "_view_module_version": "1.5.0",
            "description_tooltip": null,
            "_model_module": "@jupyter-widgets/controls",
            "layout": "IPY_MODEL_31c2fbad30dc4a3fb41f5a120cb07638"
          }
        },
        "6cc14cf5e5034f62ab44a6ecae0de519": {
          "model_module": "@jupyter-widgets/controls",
          "model_name": "ProgressStyleModel",
          "state": {
            "_view_name": "StyleView",
            "_model_name": "ProgressStyleModel",
            "description_width": "initial",
            "_view_module": "@jupyter-widgets/base",
            "_model_module_version": "1.5.0",
            "_view_count": null,
            "_view_module_version": "1.2.0",
            "bar_color": null,
            "_model_module": "@jupyter-widgets/controls"
          }
        },
        "c1f70d1964a744f6836720b1fd94a489": {
          "model_module": "@jupyter-widgets/base",
          "model_name": "LayoutModel",
          "state": {
            "_view_name": "LayoutView",
            "grid_template_rows": null,
            "right": null,
            "justify_content": null,
            "_view_module": "@jupyter-widgets/base",
            "overflow": null,
            "_model_module_version": "1.2.0",
            "_view_count": null,
            "flex_flow": null,
            "width": null,
            "min_width": null,
            "border": null,
            "align_items": null,
            "bottom": null,
            "_model_module": "@jupyter-widgets/base",
            "top": null,
            "grid_column": null,
            "overflow_y": null,
            "overflow_x": null,
            "grid_auto_flow": null,
            "grid_area": null,
            "grid_template_columns": null,
            "flex": null,
            "_model_name": "LayoutModel",
            "justify_items": null,
            "grid_row": null,
            "max_height": null,
            "align_content": null,
            "visibility": null,
            "align_self": null,
            "height": null,
            "min_height": null,
            "padding": null,
            "grid_auto_rows": null,
            "grid_gap": null,
            "max_width": null,
            "order": null,
            "_view_module_version": "1.2.0",
            "grid_template_areas": null,
            "object_position": null,
            "object_fit": null,
            "grid_auto_columns": null,
            "margin": null,
            "display": null,
            "left": null
          }
        },
        "4bdf22a594fd4826b9568ad90ad4c661": {
          "model_module": "@jupyter-widgets/controls",
          "model_name": "DescriptionStyleModel",
          "state": {
            "_view_name": "StyleView",
            "_model_name": "DescriptionStyleModel",
            "description_width": "",
            "_view_module": "@jupyter-widgets/base",
            "_model_module_version": "1.5.0",
            "_view_count": null,
            "_view_module_version": "1.2.0",
            "_model_module": "@jupyter-widgets/controls"
          }
        },
        "31c2fbad30dc4a3fb41f5a120cb07638": {
          "model_module": "@jupyter-widgets/base",
          "model_name": "LayoutModel",
          "state": {
            "_view_name": "LayoutView",
            "grid_template_rows": null,
            "right": null,
            "justify_content": null,
            "_view_module": "@jupyter-widgets/base",
            "overflow": null,
            "_model_module_version": "1.2.0",
            "_view_count": null,
            "flex_flow": null,
            "width": null,
            "min_width": null,
            "border": null,
            "align_items": null,
            "bottom": null,
            "_model_module": "@jupyter-widgets/base",
            "top": null,
            "grid_column": null,
            "overflow_y": null,
            "overflow_x": null,
            "grid_auto_flow": null,
            "grid_area": null,
            "grid_template_columns": null,
            "flex": null,
            "_model_name": "LayoutModel",
            "justify_items": null,
            "grid_row": null,
            "max_height": null,
            "align_content": null,
            "visibility": null,
            "align_self": null,
            "height": null,
            "min_height": null,
            "padding": null,
            "grid_auto_rows": null,
            "grid_gap": null,
            "max_width": null,
            "order": null,
            "_view_module_version": "1.2.0",
            "grid_template_areas": null,
            "object_position": null,
            "object_fit": null,
            "grid_auto_columns": null,
            "margin": null,
            "display": null,
            "left": null
          }
        },
        "2f5a9d126b9a492bbae66ec02fc45f57": {
          "model_module": "@jupyter-widgets/controls",
          "model_name": "HBoxModel",
          "state": {
            "_view_name": "HBoxView",
            "_dom_classes": [],
            "_model_name": "HBoxModel",
            "_view_module": "@jupyter-widgets/controls",
            "_model_module_version": "1.5.0",
            "_view_count": null,
            "_view_module_version": "1.5.0",
            "box_style": "",
            "layout": "IPY_MODEL_abb0ecbd4b854ecba42e82141daa89e3",
            "_model_module": "@jupyter-widgets/controls",
            "children": [
              "IPY_MODEL_cb9484d6b97041c4ac344c5bcf6d931c",
              "IPY_MODEL_60549ba240af4e578298bfc7b401f9af"
            ]
          }
        },
        "abb0ecbd4b854ecba42e82141daa89e3": {
          "model_module": "@jupyter-widgets/base",
          "model_name": "LayoutModel",
          "state": {
            "_view_name": "LayoutView",
            "grid_template_rows": null,
            "right": null,
            "justify_content": null,
            "_view_module": "@jupyter-widgets/base",
            "overflow": null,
            "_model_module_version": "1.2.0",
            "_view_count": null,
            "flex_flow": null,
            "width": null,
            "min_width": null,
            "border": null,
            "align_items": null,
            "bottom": null,
            "_model_module": "@jupyter-widgets/base",
            "top": null,
            "grid_column": null,
            "overflow_y": null,
            "overflow_x": null,
            "grid_auto_flow": null,
            "grid_area": null,
            "grid_template_columns": null,
            "flex": null,
            "_model_name": "LayoutModel",
            "justify_items": null,
            "grid_row": null,
            "max_height": null,
            "align_content": null,
            "visibility": null,
            "align_self": null,
            "height": null,
            "min_height": null,
            "padding": null,
            "grid_auto_rows": null,
            "grid_gap": null,
            "max_width": null,
            "order": null,
            "_view_module_version": "1.2.0",
            "grid_template_areas": null,
            "object_position": null,
            "object_fit": null,
            "grid_auto_columns": null,
            "margin": null,
            "display": null,
            "left": null
          }
        },
        "cb9484d6b97041c4ac344c5bcf6d931c": {
          "model_module": "@jupyter-widgets/controls",
          "model_name": "FloatProgressModel",
          "state": {
            "_view_name": "ProgressView",
            "style": "IPY_MODEL_f55467092ecc4a78ad7dfdc2dd807109",
            "_dom_classes": [],
            "description": "Downloading: 100%",
            "_model_name": "FloatProgressModel",
            "bar_style": "success",
            "max": 442,
            "_view_module": "@jupyter-widgets/controls",
            "_model_module_version": "1.5.0",
            "value": 442,
            "_view_count": null,
            "_view_module_version": "1.5.0",
            "orientation": "horizontal",
            "min": 0,
            "description_tooltip": null,
            "_model_module": "@jupyter-widgets/controls",
            "layout": "IPY_MODEL_98122e237e6e42b08ea4d95be5a354a3"
          }
        },
        "60549ba240af4e578298bfc7b401f9af": {
          "model_module": "@jupyter-widgets/controls",
          "model_name": "HTMLModel",
          "state": {
            "_view_name": "HTMLView",
            "style": "IPY_MODEL_2a108e2173944e67bc9a08e133e6e74d",
            "_dom_classes": [],
            "description": "",
            "_model_name": "HTMLModel",
            "placeholder": "​",
            "_view_module": "@jupyter-widgets/controls",
            "_model_module_version": "1.5.0",
            "value": " 442/442 [00:00&lt;00:00, 1.96kB/s]",
            "_view_count": null,
            "_view_module_version": "1.5.0",
            "description_tooltip": null,
            "_model_module": "@jupyter-widgets/controls",
            "layout": "IPY_MODEL_168a9f4eb24349deb369a99fd0bde35b"
          }
        },
        "f55467092ecc4a78ad7dfdc2dd807109": {
          "model_module": "@jupyter-widgets/controls",
          "model_name": "ProgressStyleModel",
          "state": {
            "_view_name": "StyleView",
            "_model_name": "ProgressStyleModel",
            "description_width": "initial",
            "_view_module": "@jupyter-widgets/base",
            "_model_module_version": "1.5.0",
            "_view_count": null,
            "_view_module_version": "1.2.0",
            "bar_color": null,
            "_model_module": "@jupyter-widgets/controls"
          }
        },
        "98122e237e6e42b08ea4d95be5a354a3": {
          "model_module": "@jupyter-widgets/base",
          "model_name": "LayoutModel",
          "state": {
            "_view_name": "LayoutView",
            "grid_template_rows": null,
            "right": null,
            "justify_content": null,
            "_view_module": "@jupyter-widgets/base",
            "overflow": null,
            "_model_module_version": "1.2.0",
            "_view_count": null,
            "flex_flow": null,
            "width": null,
            "min_width": null,
            "border": null,
            "align_items": null,
            "bottom": null,
            "_model_module": "@jupyter-widgets/base",
            "top": null,
            "grid_column": null,
            "overflow_y": null,
            "overflow_x": null,
            "grid_auto_flow": null,
            "grid_area": null,
            "grid_template_columns": null,
            "flex": null,
            "_model_name": "LayoutModel",
            "justify_items": null,
            "grid_row": null,
            "max_height": null,
            "align_content": null,
            "visibility": null,
            "align_self": null,
            "height": null,
            "min_height": null,
            "padding": null,
            "grid_auto_rows": null,
            "grid_gap": null,
            "max_width": null,
            "order": null,
            "_view_module_version": "1.2.0",
            "grid_template_areas": null,
            "object_position": null,
            "object_fit": null,
            "grid_auto_columns": null,
            "margin": null,
            "display": null,
            "left": null
          }
        },
        "2a108e2173944e67bc9a08e133e6e74d": {
          "model_module": "@jupyter-widgets/controls",
          "model_name": "DescriptionStyleModel",
          "state": {
            "_view_name": "StyleView",
            "_model_name": "DescriptionStyleModel",
            "description_width": "",
            "_view_module": "@jupyter-widgets/base",
            "_model_module_version": "1.5.0",
            "_view_count": null,
            "_view_module_version": "1.2.0",
            "_model_module": "@jupyter-widgets/controls"
          }
        },
        "168a9f4eb24349deb369a99fd0bde35b": {
          "model_module": "@jupyter-widgets/base",
          "model_name": "LayoutModel",
          "state": {
            "_view_name": "LayoutView",
            "grid_template_rows": null,
            "right": null,
            "justify_content": null,
            "_view_module": "@jupyter-widgets/base",
            "overflow": null,
            "_model_module_version": "1.2.0",
            "_view_count": null,
            "flex_flow": null,
            "width": null,
            "min_width": null,
            "border": null,
            "align_items": null,
            "bottom": null,
            "_model_module": "@jupyter-widgets/base",
            "top": null,
            "grid_column": null,
            "overflow_y": null,
            "overflow_x": null,
            "grid_auto_flow": null,
            "grid_area": null,
            "grid_template_columns": null,
            "flex": null,
            "_model_name": "LayoutModel",
            "justify_items": null,
            "grid_row": null,
            "max_height": null,
            "align_content": null,
            "visibility": null,
            "align_self": null,
            "height": null,
            "min_height": null,
            "padding": null,
            "grid_auto_rows": null,
            "grid_gap": null,
            "max_width": null,
            "order": null,
            "_view_module_version": "1.2.0",
            "grid_template_areas": null,
            "object_position": null,
            "object_fit": null,
            "grid_auto_columns": null,
            "margin": null,
            "display": null,
            "left": null
          }
        },
        "71e8447401164da0beb3c1a69aa70622": {
          "model_module": "@jupyter-widgets/controls",
          "model_name": "HBoxModel",
          "state": {
            "_view_name": "HBoxView",
            "_dom_classes": [],
            "_model_name": "HBoxModel",
            "_view_module": "@jupyter-widgets/controls",
            "_model_module_version": "1.5.0",
            "_view_count": null,
            "_view_module_version": "1.5.0",
            "box_style": "",
            "layout": "IPY_MODEL_f8feb2a56dcb476da9c4cf346df908b6",
            "_model_module": "@jupyter-widgets/controls",
            "children": [
              "IPY_MODEL_46441cfd20af428d8d3c9066e4100956",
              "IPY_MODEL_c0055b1829b44641b2dc4522c03bf4a5"
            ]
          }
        },
        "f8feb2a56dcb476da9c4cf346df908b6": {
          "model_module": "@jupyter-widgets/base",
          "model_name": "LayoutModel",
          "state": {
            "_view_name": "LayoutView",
            "grid_template_rows": null,
            "right": null,
            "justify_content": null,
            "_view_module": "@jupyter-widgets/base",
            "overflow": null,
            "_model_module_version": "1.2.0",
            "_view_count": null,
            "flex_flow": null,
            "width": null,
            "min_width": null,
            "border": null,
            "align_items": null,
            "bottom": null,
            "_model_module": "@jupyter-widgets/base",
            "top": null,
            "grid_column": null,
            "overflow_y": null,
            "overflow_x": null,
            "grid_auto_flow": null,
            "grid_area": null,
            "grid_template_columns": null,
            "flex": null,
            "_model_name": "LayoutModel",
            "justify_items": null,
            "grid_row": null,
            "max_height": null,
            "align_content": null,
            "visibility": null,
            "align_self": null,
            "height": null,
            "min_height": null,
            "padding": null,
            "grid_auto_rows": null,
            "grid_gap": null,
            "max_width": null,
            "order": null,
            "_view_module_version": "1.2.0",
            "grid_template_areas": null,
            "object_position": null,
            "object_fit": null,
            "grid_auto_columns": null,
            "margin": null,
            "display": null,
            "left": null
          }
        },
        "46441cfd20af428d8d3c9066e4100956": {
          "model_module": "@jupyter-widgets/controls",
          "model_name": "FloatProgressModel",
          "state": {
            "_view_name": "ProgressView",
            "style": "IPY_MODEL_cac0e858532b4b47bfd4ddf048915a08",
            "_dom_classes": [],
            "description": "Downloading: 100%",
            "_model_name": "FloatProgressModel",
            "bar_style": "success",
            "max": 231508,
            "_view_module": "@jupyter-widgets/controls",
            "_model_module_version": "1.5.0",
            "value": 231508,
            "_view_count": null,
            "_view_module_version": "1.5.0",
            "orientation": "horizontal",
            "min": 0,
            "description_tooltip": null,
            "_model_module": "@jupyter-widgets/controls",
            "layout": "IPY_MODEL_2e8e6d96ab074f898e18641f6d9e932c"
          }
        },
        "c0055b1829b44641b2dc4522c03bf4a5": {
          "model_module": "@jupyter-widgets/controls",
          "model_name": "HTMLModel",
          "state": {
            "_view_name": "HTMLView",
            "style": "IPY_MODEL_05ee0270614b400f9bd9bb29cdab057f",
            "_dom_classes": [],
            "description": "",
            "_model_name": "HTMLModel",
            "placeholder": "​",
            "_view_module": "@jupyter-widgets/controls",
            "_model_module_version": "1.5.0",
            "value": " 232k/232k [00:00&lt;00:00, 2.15MB/s]",
            "_view_count": null,
            "_view_module_version": "1.5.0",
            "description_tooltip": null,
            "_model_module": "@jupyter-widgets/controls",
            "layout": "IPY_MODEL_235510309d4b42248d5d66cf773daa26"
          }
        },
        "cac0e858532b4b47bfd4ddf048915a08": {
          "model_module": "@jupyter-widgets/controls",
          "model_name": "ProgressStyleModel",
          "state": {
            "_view_name": "StyleView",
            "_model_name": "ProgressStyleModel",
            "description_width": "initial",
            "_view_module": "@jupyter-widgets/base",
            "_model_module_version": "1.5.0",
            "_view_count": null,
            "_view_module_version": "1.2.0",
            "bar_color": null,
            "_model_module": "@jupyter-widgets/controls"
          }
        },
        "2e8e6d96ab074f898e18641f6d9e932c": {
          "model_module": "@jupyter-widgets/base",
          "model_name": "LayoutModel",
          "state": {
            "_view_name": "LayoutView",
            "grid_template_rows": null,
            "right": null,
            "justify_content": null,
            "_view_module": "@jupyter-widgets/base",
            "overflow": null,
            "_model_module_version": "1.2.0",
            "_view_count": null,
            "flex_flow": null,
            "width": null,
            "min_width": null,
            "border": null,
            "align_items": null,
            "bottom": null,
            "_model_module": "@jupyter-widgets/base",
            "top": null,
            "grid_column": null,
            "overflow_y": null,
            "overflow_x": null,
            "grid_auto_flow": null,
            "grid_area": null,
            "grid_template_columns": null,
            "flex": null,
            "_model_name": "LayoutModel",
            "justify_items": null,
            "grid_row": null,
            "max_height": null,
            "align_content": null,
            "visibility": null,
            "align_self": null,
            "height": null,
            "min_height": null,
            "padding": null,
            "grid_auto_rows": null,
            "grid_gap": null,
            "max_width": null,
            "order": null,
            "_view_module_version": "1.2.0",
            "grid_template_areas": null,
            "object_position": null,
            "object_fit": null,
            "grid_auto_columns": null,
            "margin": null,
            "display": null,
            "left": null
          }
        },
        "05ee0270614b400f9bd9bb29cdab057f": {
          "model_module": "@jupyter-widgets/controls",
          "model_name": "DescriptionStyleModel",
          "state": {
            "_view_name": "StyleView",
            "_model_name": "DescriptionStyleModel",
            "description_width": "",
            "_view_module": "@jupyter-widgets/base",
            "_model_module_version": "1.5.0",
            "_view_count": null,
            "_view_module_version": "1.2.0",
            "_model_module": "@jupyter-widgets/controls"
          }
        },
        "235510309d4b42248d5d66cf773daa26": {
          "model_module": "@jupyter-widgets/base",
          "model_name": "LayoutModel",
          "state": {
            "_view_name": "LayoutView",
            "grid_template_rows": null,
            "right": null,
            "justify_content": null,
            "_view_module": "@jupyter-widgets/base",
            "overflow": null,
            "_model_module_version": "1.2.0",
            "_view_count": null,
            "flex_flow": null,
            "width": null,
            "min_width": null,
            "border": null,
            "align_items": null,
            "bottom": null,
            "_model_module": "@jupyter-widgets/base",
            "top": null,
            "grid_column": null,
            "overflow_y": null,
            "overflow_x": null,
            "grid_auto_flow": null,
            "grid_area": null,
            "grid_template_columns": null,
            "flex": null,
            "_model_name": "LayoutModel",
            "justify_items": null,
            "grid_row": null,
            "max_height": null,
            "align_content": null,
            "visibility": null,
            "align_self": null,
            "height": null,
            "min_height": null,
            "padding": null,
            "grid_auto_rows": null,
            "grid_gap": null,
            "max_width": null,
            "order": null,
            "_view_module_version": "1.2.0",
            "grid_template_areas": null,
            "object_position": null,
            "object_fit": null,
            "grid_auto_columns": null,
            "margin": null,
            "display": null,
            "left": null
          }
        }
      }
    }
  },
  "cells": [
    {
      "cell_type": "markdown",
      "metadata": {
        "id": "view-in-github",
        "colab_type": "text"
      },
      "source": [
        "<a href=\"https://colab.research.google.com/github/stephan-strate/sentiment-fine-foods/blob/master/bert_amazon_fine_food_score_analysis.ipynb\" target=\"_parent\"><img src=\"https://colab.research.google.com/assets/colab-badge.svg\" alt=\"Open In Colab\"/></a>"
      ]
    },
    {
      "cell_type": "code",
      "metadata": {
        "id": "QQnZJNoqzVSJ",
        "outputId": "a8773981-0aa0-4bc0-e0f3-d206161db8b8",
        "colab": {
          "base_uri": "https://localhost:8080/",
          "height": 374
        }
      },
      "source": [
        "!pip install -q ktrain"
      ],
      "execution_count": null,
      "outputs": [
        {
          "output_type": "stream",
          "text": [
            "\u001b[K     |████████████████████████████████| 25.3MB 129kB/s \n",
            "\u001b[K     |████████████████████████████████| 983kB 49.1MB/s \n",
            "\u001b[K     |████████████████████████████████| 245kB 40.5MB/s \n",
            "\u001b[K     |████████████████████████████████| 1.1MB 45.4MB/s \n",
            "\u001b[K     |████████████████████████████████| 471kB 47.2MB/s \n",
            "\u001b[K     |████████████████████████████████| 890kB 48.0MB/s \n",
            "\u001b[K     |████████████████████████████████| 3.0MB 37.0MB/s \n",
            "\u001b[K     |████████████████████████████████| 1.1MB 50.7MB/s \n",
            "\u001b[?25h  Building wheel for ktrain (setup.py) ... \u001b[?25l\u001b[?25hdone\n",
            "  Building wheel for keras-bert (setup.py) ... \u001b[?25l\u001b[?25hdone\n",
            "  Building wheel for langdetect (setup.py) ... \u001b[?25l\u001b[?25hdone\n",
            "  Building wheel for seqeval (setup.py) ... \u001b[?25l\u001b[?25hdone\n",
            "  Building wheel for syntok (setup.py) ... \u001b[?25l\u001b[?25hdone\n",
            "  Building wheel for keras-transformer (setup.py) ... \u001b[?25l\u001b[?25hdone\n",
            "  Building wheel for sacremoses (setup.py) ... \u001b[?25l\u001b[?25hdone\n",
            "  Building wheel for keras-pos-embd (setup.py) ... \u001b[?25l\u001b[?25hdone\n",
            "  Building wheel for keras-multi-head (setup.py) ... \u001b[?25l\u001b[?25hdone\n",
            "  Building wheel for keras-layer-normalization (setup.py) ... \u001b[?25l\u001b[?25hdone\n",
            "  Building wheel for keras-position-wise-feed-forward (setup.py) ... \u001b[?25l\u001b[?25hdone\n",
            "  Building wheel for keras-embed-sim (setup.py) ... \u001b[?25l\u001b[?25hdone\n",
            "  Building wheel for keras-self-attention (setup.py) ... \u001b[?25l\u001b[?25hdone\n"
          ],
          "name": "stdout"
        }
      ]
    },
    {
      "cell_type": "code",
      "metadata": {
        "id": "kO18CO-TzaGP"
      },
      "source": [
        "MODEL_NAME = \"distilbert-base-uncased\"\n",
        "BATCH_SIZE = 32\n",
        "EPOCHS = 2\n",
        "LEARNING_RATE = 5e-5\n",
        "MAX_LEN = 128\n",
        "RANDOM = 42\n",
        "\n",
        "TU_GREEN = \"#639a00\""
      ],
      "execution_count": null,
      "outputs": []
    },
    {
      "cell_type": "code",
      "metadata": {
        "id": "Y6VwK2mwzqqS"
      },
      "source": [
        "import pandas as pd\n",
        "import numpy as np\n",
        "import matplotlib.pyplot as plt\n",
        "\n",
        "import urllib.request\n",
        "import zipfile\n",
        "\n",
        "url = \"https://storage.statc.de/datasets/amazon-fine-food/amazon-fine-food.zip\"\n",
        "filehandle, _ = urllib.request.urlretrieve(url)\n",
        "zip_file_object = zipfile.ZipFile(filehandle, \"r\")\n",
        "zip_file_object.extractall()"
      ],
      "execution_count": null,
      "outputs": []
    },
    {
      "cell_type": "code",
      "metadata": {
        "id": "c1jd2V_40NJV",
        "outputId": "4db4bc59-4776-4f20-fe0d-93a6a167b682",
        "colab": {
          "base_uri": "https://localhost:8080/",
          "height": 34
        }
      },
      "source": [
        "df = pd.read_csv(\"amazon-fine-food-cleaned.csv\", delimiter=\",\", header=0)\n",
        "print(\"Dataset has {:,} rows\".format(df.shape[0]))"
      ],
      "execution_count": null,
      "outputs": [
        {
          "output_type": "stream",
          "text": [
            "Dataset has 393,670 rows\n"
          ],
          "name": "stdout"
        }
      ]
    },
    {
      "cell_type": "code",
      "metadata": {
        "id": "sd5vx2s-46qD"
      },
      "source": [
        "import math\n",
        "\n",
        "def calculate_helpfulness(percentage):\n",
        "  if math.isnan(percentage):\n",
        "    return -1\n",
        "  if percentage > 0.5:\n",
        "    return 1\n",
        "  return 0\n",
        "\n",
        "df[\"Helpfulness\"] = (df[\"HelpfulnessNumerator\"] / df[\"HelpfulnessDenominator\"]).apply(calculate_helpfulness)"
      ],
      "execution_count": null,
      "outputs": []
    },
    {
      "cell_type": "code",
      "metadata": {
        "id": "XjV3s2mMuWZN",
        "outputId": "e7cc922f-382b-4a05-e83b-2cd17c6c2895",
        "colab": {
          "base_uri": "https://localhost:8080/",
          "height": 51
        }
      },
      "source": [
        "from sklearn.model_selection import train_test_split\n",
        "\n",
        "train, test = train_test_split(df, test_size=0.3, random_state=42)\n",
        "\n",
        "print(\"Train dataset has {:,} rows\".format(train.shape[0]))\n",
        "print(\"Test dataset has {:,} rows\".format(test.shape[0]))"
      ],
      "execution_count": null,
      "outputs": [
        {
          "output_type": "stream",
          "text": [
            "Train dataset has 275,569 rows\n",
            "Test dataset has 118,101 rows\n"
          ],
          "name": "stdout"
        }
      ]
    },
    {
      "cell_type": "code",
      "metadata": {
        "id": "iXU_AQuL0Fez"
      },
      "source": [
        "import ktrain\n",
        "from ktrain import text\n",
        "from pathlib import Path\n",
        "import random\n",
        "from os import path\n",
        "import os.path\n",
        "import itertools\n",
        "from sklearn.metrics import confusion_matrix\n",
        "\n",
        "random.seed(RANDOM)\n",
        "\n",
        "def train_and_score(X_train, X_test, X_validate, y_train, y_test, y_validate, model_name=None):\n",
        "  print(\"train size: {:,}\".format(len(X_train)))\n",
        "  print(\"test size: {:,}\".format(len(X_test)))\n",
        "  print(\"validate size: {:,}\".format(len(X_validate)))\n",
        "\n",
        "  model_path = \"/content/drive/My Drive/Colab Notebooks/models/{}\".format(model_name)\n",
        "  # check if model was already trained, load model without training\n",
        "  if path.exists(model_path):\n",
        "    predictor = ktrain.load_predictor(model_path)\n",
        "    print(predictor.get_classes())\n",
        "  else:\n",
        "    # text transformation configuration\n",
        "    t = text.Transformer(MODEL_NAME, maxlen=MAX_LEN, class_names=[0, 1, 2, 3, 4])\n",
        "\n",
        "    # pre-process text (input vectors, truncation, ...)\n",
        "    trn = t.preprocess_train(X_train, y_train)\n",
        "    val = t.preprocess_test(X_test, y_test)\n",
        "\n",
        "    # learn model\n",
        "    model = t.get_classifier()\n",
        "    learner = ktrain.get_learner(model, train_data=trn, val_data=val, batch_size=BATCH_SIZE)\n",
        "    learner.fit(LEARNING_RATE, EPOCHS)\n",
        "\n",
        "    # save predictor\n",
        "    predictor = ktrain.get_predictor(learner.model, preproc=t)\n",
        "    predictor.save(model_path)\n",
        "\n",
        "  score_path = model_path + \"/score\"\n",
        "  if path.exists(score_path):\n",
        "    score = Path(score_path).read_text()\n",
        "    predictions = np.load(model_path + \"/predictions.npy\")\n",
        "    y_validate = np.load(model_path + \"/true_labels.npy\")\n",
        "  else:\n",
        "    predictions = predictor.predict(X_validate)\n",
        "    np.save(model_path + \"/predictions\", predictions)\n",
        "    np.save(model_path + \"/true_labels\", y_validate)\n",
        "    comparison = list(map(lambda x: x[0] == x[1], zip(predictions, y_validate)))\n",
        "    score = comparison.count(True) / len(y_validate)\n",
        "    Path(score_path).write_text(str(score))\n",
        "\n",
        "  print(\"Validation score: {}\".format(score))\n",
        "\n",
        "  return predictor, score, predictions, y_validate\n",
        "\n",
        "def train_test_validate_split(X, y, train_size=0.8, sample_size=15000):\n",
        "  shuffled = random.sample(list(zip(X, y)), len(X))\n",
        "  validate = shuffled[sample_size:]\n",
        "  assert len(validate) == len(X) - sample_size\n",
        "  \n",
        "  train_test = shuffled[:sample_size]\n",
        "  assert len(train_test) == sample_size\n",
        "  train_test_cut = int(train_size * len(train_test))\n",
        "  train, test = train_test[:train_test_cut], train_test[train_test_cut:]\n",
        "\n",
        "  X_validate, y_validate = zip(*validate)\n",
        "  X_train, y_train = zip(*train)\n",
        "  X_test, y_test = zip(*test)\n",
        "\n",
        "  return list(X_train), list(X_test), list(X_validate), list(y_train), list(y_test), list(y_validate)\n",
        "\n",
        "def train_test_validate_split_groups(groups, train_size=0.8, sample_size_group=15000):\n",
        "  X_train, X_test, X_validate, y_train, y_test, y_validate = zip(*list(map(lambda x: train_test_validate_split(x[1].TextClean.values, x[1].Score.values - 1, sample_size=sample_size_group, train_size=train_size), groups)))\n",
        "  f = lambda x: list(itertools.chain.from_iterable(x))\n",
        "\n",
        "  return f(X_train), f(X_test), f(X_validate), f(y_train), f(y_test), f(y_validate)\n",
        "\n",
        "def confusion_matrix_custom(true_labels, predictions, name=None):\n",
        "  cm = confusion_matrix(true_labels, predictions, [0, 1, 2, 3, 4], normalize=\"true\")\n",
        "\n",
        "  fig = plt.figure(figsize=(7, 5))\n",
        "  ax = fig.add_subplot(111)\n",
        "  for (i, j), z in np.ndenumerate(cm):\n",
        "      if i == j:\n",
        "        ax.text(j, i, \"{:0.2f}\".format(z), ha=\"center\", va=\"center\", fontsize=12)\n",
        "  cax = ax.matshow(cm, cmap=plt.cm.Greens, vmin=0, vmax=1)\n",
        "  fig.colorbar(cax)\n",
        "  ax.set_xticklabels([''] + [0, 1, 2, 3, 4])\n",
        "  ax.set_yticklabels([''] + [0, 1, 2, 3, 4])\n",
        "  plt.xlabel(\"Predicted\")\n",
        "  plt.ylabel(\"True\")\n",
        "\n",
        "  plt.savefig(name)\n",
        "  plt.show()\n",
        "  return cm"
      ],
      "execution_count": null,
      "outputs": []
    },
    {
      "cell_type": "code",
      "metadata": {
        "id": "eWcs-UfkfdcU",
        "outputId": "25eb6263-0647-4398-c4ac-46b34cff85d1",
        "colab": {
          "base_uri": "https://localhost:8080/",
          "height": 102
        }
      },
      "source": [
        "base_line_predictor, base_line_score, base_line_predictions, base_line_true_labels = train_and_score(*train_test_validate_split(train.TextClean.values, train.Score.values - 1, sample_size=200000), model_name=\"base_line_real\")"
      ],
      "execution_count": null,
      "outputs": [
        {
          "output_type": "stream",
          "text": [
            "train size: 160,000\n",
            "test size: 40,000\n",
            "validate size: 75,569\n",
            "[0, 1, 2, 3, 4]\n",
            "Validation score: 0.7676031176805304\n"
          ],
          "name": "stdout"
        }
      ]
    },
    {
      "cell_type": "code",
      "metadata": {
        "id": "zVbmC_b7MS7h",
        "outputId": "a6605d11-e593-495c-af7f-b125fa0544b1",
        "colab": {
          "base_uri": "https://localhost:8080/",
          "height": 115,
          "referenced_widgets": [
            "49fd906fd5be40f3a070ac0fbdb8cb7a",
            "e47520e035eb477fbcbb740034abb96b",
            "353f5b1d49df4d5dbafb5b6af1bc8acb",
            "aac730db09f64696a61bdcf2cc8b303a",
            "bb0017909bfd40f3aa2cb6b93231f5ee",
            "223f5d7ce6e4479a97f4c5d863a3295b",
            "423acf71a625430abf154269b2e611f3",
            "0a6b333b7533484ea6a8a9d5a1b4f3c2",
            "4366394a2c434d618955e90c69b7f26a",
            "f3ac9ade05fa4a7bb32f3dcec44e0122",
            "2669d019cf3547169e0af2f15aa5a32e",
            "1148bfb3edc84bd99b5639c41218580d",
            "6cc14cf5e5034f62ab44a6ecae0de519",
            "c1f70d1964a744f6836720b1fd94a489",
            "4bdf22a594fd4826b9568ad90ad4c661",
            "31c2fbad30dc4a3fb41f5a120cb07638"
          ]
        }
      },
      "source": [
        "base_line_predictions = base_line_predictor.predict(test.TextClean.values)\n",
        "true_labels = test.Score.values - 1"
      ],
      "execution_count": null,
      "outputs": [
        {
          "output_type": "display_data",
          "data": {
            "application/vnd.jupyter.widget-view+json": {
              "model_id": "49fd906fd5be40f3a070ac0fbdb8cb7a",
              "version_minor": 0,
              "version_major": 2
            },
            "text/plain": [
              "HBox(children=(FloatProgress(value=0.0, description='Downloading', max=442.0, style=ProgressStyle(description_…"
            ]
          },
          "metadata": {
            "tags": []
          }
        },
        {
          "output_type": "stream",
          "text": [
            "\n"
          ],
          "name": "stdout"
        },
        {
          "output_type": "display_data",
          "data": {
            "application/vnd.jupyter.widget-view+json": {
              "model_id": "4366394a2c434d618955e90c69b7f26a",
              "version_minor": 0,
              "version_major": 2
            },
            "text/plain": [
              "HBox(children=(FloatProgress(value=0.0, description='Downloading', max=231508.0, style=ProgressStyle(descripti…"
            ]
          },
          "metadata": {
            "tags": []
          }
        },
        {
          "output_type": "stream",
          "text": [
            "\n"
          ],
          "name": "stdout"
        },
        {
          "output_type": "display_data",
          "data": {
            "text/html": [
              ""
            ],
            "text/plain": [
              "<IPython.core.display.HTML object>"
            ]
          },
          "metadata": {
            "tags": []
          }
        }
      ]
    },
    {
      "cell_type": "code",
      "metadata": {
        "id": "9sSs7JO1Elwp",
        "outputId": "7eae6e00-f5da-48b2-b8a7-aa74457bc6cb",
        "colab": {
          "base_uri": "https://localhost:8080/",
          "height": 334
        }
      },
      "source": [
        "cm1 = confusion_matrix_custom(true_labels, base_line_predictions, \"base_line_matrix.pdf\")"
      ],
      "execution_count": null,
      "outputs": [
        {
          "output_type": "display_data",
          "data": {
            "image/png": "[encoded data removed]",
            "text/plain": [
              "<Figure size 504x360 with 2 Axes>"
            ]
          },
          "metadata": {
            "tags": [],
            "needs_background": "light"
          }
        }
      ]
    },
    {
      "cell_type": "code",
      "metadata": {
        "id": "fmQWrsfQ4EgG",
        "outputId": "611e951f-57d5-43ba-d8c1-a097cffb1fe4",
        "colab": {
          "base_uri": "https://localhost:8080/",
          "height": 221
        }
      },
      "source": [
        "score_groups = train.groupby(\"Score\")\n",
        "print(score_groups.size())\n",
        "score_balanced_predictor, score_balanced_score, score_balanced_predictions, score_balanced_true_labels = train_and_score(*train_test_validate_split_groups(score_groups, sample_size_group=12000), model_name=\"score_balanced_real\")"
      ],
      "execution_count": null,
      "outputs": [
        {
          "output_type": "stream",
          "text": [
            "Score\n",
            "1     25354\n",
            "2     14643\n",
            "3     20948\n",
            "4     39145\n",
            "5    175479\n",
            "dtype: int64\n",
            "train size: 48,000\n",
            "test size: 12,000\n",
            "validate size: 215,569\n",
            "[0, 1, 2, 3, 4]\n",
            "Validation score: 0.7439752469047034\n"
          ],
          "name": "stdout"
        }
      ]
    },
    {
      "cell_type": "code",
      "metadata": {
        "id": "LuD4ApvwPlFI",
        "outputId": "6295ddf9-fc39-44d3-85f9-f5f35c0b8645",
        "colab": {
          "base_uri": "https://localhost:8080/",
          "height": 17
        }
      },
      "source": [
        "score_balanced_predictions = score_balanced_predictor.predict(test.TextClean.values)"
      ],
      "execution_count": null,
      "outputs": [
        {
          "output_type": "display_data",
          "data": {
            "text/html": [
              ""
            ],
            "text/plain": [
              "<IPython.core.display.HTML object>"
            ]
          },
          "metadata": {
            "tags": []
          }
        }
      ]
    },
    {
      "cell_type": "code",
      "metadata": {
        "id": "yLsgMmWoBg8z",
        "outputId": "1c4970f1-ef7d-41d5-8a8b-662f893ebc5d",
        "colab": {
          "base_uri": "https://localhost:8080/",
          "height": 334
        }
      },
      "source": [
        "cm2 = confusion_matrix_custom(true_labels, score_balanced_predictions, \"score_balanced_matrix.pdf\")"
      ],
      "execution_count": null,
      "outputs": [
        {
          "output_type": "display_data",
          "data": {
            "image/png": "[encoded data removed]",
            "text/plain": [
              "<Figure size 504x360 with 2 Axes>"
            ]
          },
          "metadata": {
            "tags": [],
            "needs_background": "light"
          }
        }
      ]
    },
    {
      "cell_type": "code",
      "metadata": {
        "id": "EPqdHoEHHVxz",
        "outputId": "11199ef8-5dbf-4c2b-946e-0be4d770a65e",
        "colab": {
          "base_uri": "https://localhost:8080/",
          "height": 391
        }
      },
      "source": [
        "score_helpfulness_groups = train.groupby([\"Score\", \"Helpfulness\"])\n",
        "print(score_helpfulness_groups.size())\n",
        "score_helpfulness_balanced_predictor, score_helpfulness_balanced_score, score_helpfulness_balanced_predictions, score_helpfulness_balanced_true_labels = train_and_score(*train_test_validate_split_groups(score_helpfulness_groups, sample_size_group=3500), model_name=\"score_helpfulness_balanced_real\")"
      ],
      "execution_count": null,
      "outputs": [
        {
          "output_type": "stream",
          "text": [
            "Score  Helpfulness\n",
            "1      -1              6385\n",
            "        0              9359\n",
            "        1              9610\n",
            "2      -1              5302\n",
            "        0              4242\n",
            "        1              5099\n",
            "3      -1              9261\n",
            "        0              4637\n",
            "        1              7050\n",
            "4      -1             20204\n",
            "        0              4030\n",
            "        1             14911\n",
            "5      -1             88220\n",
            "        0             11342\n",
            "        1             75917\n",
            "dtype: int64\n",
            "train size: 42,000\n",
            "test size: 10,500\n",
            "validate size: 223,069\n",
            "[0, 1, 2, 3, 4]\n",
            "Validation score: 0.712331162106792\n"
          ],
          "name": "stdout"
        }
      ]
    },
    {
      "cell_type": "code",
      "metadata": {
        "id": "AfgBfnpXPwX7",
        "outputId": "d53c8bd6-68cd-4a06-b6c8-44119490aea1",
        "colab": {
          "base_uri": "https://localhost:8080/",
          "height": 17
        }
      },
      "source": [
        "score_helpfulness_balanced_predictions = score_helpfulness_balanced_predictor.predict(test.TextClean.values)"
      ],
      "execution_count": null,
      "outputs": [
        {
          "output_type": "display_data",
          "data": {
            "text/html": [
              ""
            ],
            "text/plain": [
              "<IPython.core.display.HTML object>"
            ]
          },
          "metadata": {
            "tags": []
          }
        }
      ]
    },
    {
      "cell_type": "code",
      "metadata": {
        "id": "HNB_qp_7B0PF",
        "outputId": "3e4bb41b-573d-4a4e-e072-5398e57e6109",
        "colab": {
          "base_uri": "https://localhost:8080/",
          "height": 334
        }
      },
      "source": [
        "cm3 = confusion_matrix_custom(true_labels, score_helpfulness_balanced_predictions, \"score_helpfulness_balanced_matrix.pdf\")"
      ],
      "execution_count": null,
      "outputs": [
        {
          "output_type": "display_data",
          "data": {
            "image/png": "[encoded data removed]",
            "text/plain": [
              "<Figure size 504x360 with 2 Axes>"
            ]
          },
          "metadata": {
            "tags": [],
            "needs_background": "light"
          }
        }
      ]
    },
    {
      "cell_type": "code",
      "metadata": {
        "id": "BG-jq6r6_9t1",
        "outputId": "7ee632d5-639a-481a-dfff-11e1d10522a3",
        "colab": {
          "base_uri": "https://localhost:8080/",
          "height": 187
        }
      },
      "source": [
        "helpfulness_groups = train.groupby([\"Helpfulness\"])\n",
        "print(helpfulness_groups.size())\n",
        "helpfulness_balanced_predictor, helpfulness_balanced_score, helpfulness_balanced_predictions, helpfulness_balanced_true_labels = train_and_score(*train_test_validate_split_groups(helpfulness_groups, sample_size_group=30000), model_name=\"helpfulness_balanced_real\")"
      ],
      "execution_count": null,
      "outputs": [
        {
          "output_type": "stream",
          "text": [
            "Helpfulness\n",
            "-1    129372\n",
            " 0     33610\n",
            " 1    112587\n",
            "dtype: int64\n",
            "train size: 72,000\n",
            "test size: 18,000\n",
            "validate size: 185,569\n",
            "[0, 1, 2, 3, 4]\n",
            "Validation score: 0.7645350247077907\n"
          ],
          "name": "stdout"
        }
      ]
    },
    {
      "cell_type": "code",
      "metadata": {
        "id": "Ojs0MNBGP2l5",
        "outputId": "4f591eac-ec9b-4440-e66c-3e20eab8c953",
        "colab": {
          "base_uri": "https://localhost:8080/",
          "height": 17
        }
      },
      "source": [
        "helpfulness_balanced_predictions = helpfulness_balanced_predictor.predict(test.TextClean.values)"
      ],
      "execution_count": null,
      "outputs": [
        {
          "output_type": "display_data",
          "data": {
            "text/html": [
              ""
            ],
            "text/plain": [
              "<IPython.core.display.HTML object>"
            ]
          },
          "metadata": {
            "tags": []
          }
        }
      ]
    },
    {
      "cell_type": "code",
      "metadata": {
        "id": "C2SMBV9vNjGw",
        "outputId": "a341121a-7434-4ad0-aabd-f745f4f7bd32",
        "colab": {
          "base_uri": "https://localhost:8080/",
          "height": 334
        }
      },
      "source": [
        "cm7 = confusion_matrix_custom(true_labels, helpfulness_balanced_predictions, \"helpfulness_balanced.pdf\")"
      ],
      "execution_count": null,
      "outputs": [
        {
          "output_type": "display_data",
          "data": {
            "image/png": "[encoded data removed]",
            "text/plain": [
              "<Figure size 504x360 with 2 Axes>"
            ]
          },
          "metadata": {
            "tags": [],
            "needs_background": "light"
          }
        }
      ]
    },
    {
      "cell_type": "code",
      "metadata": {
        "id": "zDdssYtVIC6u",
        "outputId": "3b1bf21c-c67f-4885-bd2e-04aa00a40902",
        "colab": {
          "base_uri": "https://localhost:8080/",
          "height": 102
        }
      },
      "source": [
        "only_not_helpful = train[train[\"Helpfulness\"] == 0]\n",
        "not_helpful_predictor, not_helpful_score, not_helpful_predictions, not_helpful_true_labels = train_and_score(*train_test_validate_split(only_not_helpful.TextClean.values, (only_not_helpful.Score.values - 1), sample_size=30000), model_name=\"only_not_helpful_real\")"
      ],
      "execution_count": null,
      "outputs": [
        {
          "output_type": "stream",
          "text": [
            "train size: 24,000\n",
            "test size: 6,000\n",
            "validate size: 3,610\n",
            "[0, 1, 2, 3, 4]\n",
            "Validation score: 0.6171745152354571\n"
          ],
          "name": "stdout"
        }
      ]
    },
    {
      "cell_type": "code",
      "metadata": {
        "id": "pU5aMXHxP84c",
        "outputId": "8ec4cd1d-21eb-4354-970b-ea29cedf5b8d",
        "colab": {
          "base_uri": "https://localhost:8080/",
          "height": 17
        }
      },
      "source": [
        "not_helpful_predictions = not_helpful_predictor.predict(test.TextClean.values)"
      ],
      "execution_count": null,
      "outputs": [
        {
          "output_type": "display_data",
          "data": {
            "text/html": [
              ""
            ],
            "text/plain": [
              "<IPython.core.display.HTML object>"
            ]
          },
          "metadata": {
            "tags": []
          }
        }
      ]
    },
    {
      "cell_type": "code",
      "metadata": {
        "id": "jS5Ztkn5CJt4",
        "outputId": "f359b606-61cc-4c88-8061-fa7d3b62b2d0",
        "colab": {
          "base_uri": "https://localhost:8080/",
          "height": 334
        }
      },
      "source": [
        "cm4 = confusion_matrix_custom(true_labels, not_helpful_predictions, \"only_not_helpful.pdf\")"
      ],
      "execution_count": null,
      "outputs": [
        {
          "output_type": "display_data",
          "data": {
            "image/png": "[encoded data removed]",
            "text/plain": [
              "<Figure size 504x360 with 2 Axes>"
            ]
          },
          "metadata": {
            "tags": [],
            "needs_background": "light"
          }
        }
      ]
    },
    {
      "cell_type": "code",
      "metadata": {
        "id": "MIAdT2KaIUNL",
        "outputId": "ef22bf5f-f619-41d0-c45f-250b30bb0195",
        "colab": {
          "base_uri": "https://localhost:8080/",
          "height": 102
        }
      },
      "source": [
        "only_helpful = train[train[\"Helpfulness\"] == 1]\n",
        "helpful_predictor, helpful_score, helpful_predictions, helpful_true_labels = train_and_score(*train_test_validate_split(only_helpful.TextClean.values, (only_helpful.Score.values - 1), sample_size=30000), model_name=\"only_helpful_real\")"
      ],
      "execution_count": null,
      "outputs": [
        {
          "output_type": "stream",
          "text": [
            "train size: 24,000\n",
            "test size: 6,000\n",
            "validate size: 82,587\n",
            "[0, 1, 2, 3, 4]\n",
            "Validation score: 0.7541743857992178\n"
          ],
          "name": "stdout"
        }
      ]
    },
    {
      "cell_type": "code",
      "metadata": {
        "id": "BCVkwWHlQD0x",
        "outputId": "e3b09352-093f-4559-e9e2-c9c127e08315",
        "colab": {
          "base_uri": "https://localhost:8080/",
          "height": 17
        }
      },
      "source": [
        "helpful_predictions = helpful_predictor.predict(test.TextClean.values)"
      ],
      "execution_count": null,
      "outputs": [
        {
          "output_type": "display_data",
          "data": {
            "text/html": [
              ""
            ],
            "text/plain": [
              "<IPython.core.display.HTML object>"
            ]
          },
          "metadata": {
            "tags": []
          }
        }
      ]
    },
    {
      "cell_type": "code",
      "metadata": {
        "id": "s4JsgADsCUqS",
        "outputId": "791747e4-eded-4e42-a9e8-cddf8e9f3a89",
        "colab": {
          "base_uri": "https://localhost:8080/",
          "height": 334
        }
      },
      "source": [
        "cm5 = confusion_matrix_custom(true_labels, helpful_predictions, \"only_helpful.pdf\")"
      ],
      "execution_count": null,
      "outputs": [
        {
          "output_type": "display_data",
          "data": {
            "image/png": "[encoded data removed]",
            "text/plain": [
              "<Figure size 504x360 with 2 Axes>"
            ]
          },
          "metadata": {
            "tags": [],
            "needs_background": "light"
          }
        }
      ]
    },
    {
      "cell_type": "code",
      "metadata": {
        "id": "tx44RWj2IUBn",
        "outputId": "57696e9a-5a47-461b-c6d9-f4923cc39507",
        "colab": {
          "base_uri": "https://localhost:8080/",
          "height": 102
        }
      },
      "source": [
        "only_not_rated = train[train[\"Helpfulness\"] == -1]\n",
        "not_rated_predictor, not_rated_score, not_rated_predictions, not_rated_true_labels = train_and_score(*train_test_validate_split(only_not_rated.TextClean.values, (only_not_rated.Score.values - 1), sample_size=30000), model_name=\"only_not_rated_real\")"
      ],
      "execution_count": null,
      "outputs": [
        {
          "output_type": "stream",
          "text": [
            "train size: 24,000\n",
            "test size: 6,000\n",
            "validate size: 99,372\n",
            "[0, 1, 2, 3, 4]\n",
            "Validation score: 0.754196353097452\n"
          ],
          "name": "stdout"
        }
      ]
    },
    {
      "cell_type": "code",
      "metadata": {
        "id": "qmXJlbILQJvC",
        "outputId": "7a8a1735-ad52-4b6a-92fd-0c4a0a7715d3",
        "colab": {
          "base_uri": "https://localhost:8080/",
          "height": 17
        }
      },
      "source": [
        "not_rated_predictions = not_rated_predictor.predict(test.TextClean.values)"
      ],
      "execution_count": null,
      "outputs": [
        {
          "output_type": "display_data",
          "data": {
            "text/html": [
              ""
            ],
            "text/plain": [
              "<IPython.core.display.HTML object>"
            ]
          },
          "metadata": {
            "tags": []
          }
        }
      ]
    },
    {
      "cell_type": "code",
      "metadata": {
        "id": "0QDV0Lr-CvXh",
        "outputId": "78235205-f5d5-44b8-f230-8ff4f9496133",
        "colab": {
          "base_uri": "https://localhost:8080/",
          "height": 334
        }
      },
      "source": [
        "cm6 = confusion_matrix_custom(true_labels, not_rated_predictions, \"only_not_rated.pdf\")"
      ],
      "execution_count": null,
      "outputs": [
        {
          "output_type": "display_data",
          "data": {
            "image/png": "[encoded data removed]",
            "text/plain": [
              "<Figure size 504x360 with 2 Axes>"
            ]
          },
          "metadata": {
            "tags": [],
            "needs_background": "light"
          }
        }
      ]
    },
    {
      "cell_type": "code",
      "metadata": {
        "id": "N2SlQQHFKJ0s"
      },
      "source": [
        "def all_confusion(cms):\n",
        "  fig, axs = plt.subplots(2, 3, constrained_layout=True, figsize=(15, 11))\n",
        "  for ax, cm in zip(axs.flat, cms):\n",
        "    pcm = ax.matshow(cms[cm], cmap=plt.cm.Greens, vmin=0, vmax=1)\n",
        "    for (i, j), z in np.ndenumerate(cms[cm]):\n",
        "      if i == j:\n",
        "        ax.text(j, i, \"{:0.2f}\".format(z), ha=\"center\", va=\"center\", fontsize=12)\n",
        "    ax.set_xticklabels([''] + [0, 1, 2, 3, 4])\n",
        "    ax.set_yticklabels([''] + [0, 1, 2, 3, 4])\n",
        "    ax.set_xlabel(\"Predicted\")\n",
        "    ax.set_ylabel(\"True\")\n",
        "    ax.set_title(cm)\n",
        "\n",
        "  fig.colorbar(pcm, ax=axs[1:, :], location=\"bottom\", shrink=0.5)\n",
        "  plt.savefig(\"all_confusion.pdf\")\n",
        "  plt.show()"
      ],
      "execution_count": null,
      "outputs": []
    },
    {
      "cell_type": "code",
      "metadata": {
        "id": "pU6FnhT0Js8T",
        "outputId": "8a13e437-63ec-41d2-9949-76fb01fbacef",
        "colab": {
          "base_uri": "https://localhost:8080/",
          "height": 817
        }
      },
      "source": [
        "all_confusion({\"Base line\": cm1, \"Score balanced\": cm2, \"Helpfulness balanced\": cm7, \"Only not helpful\": cm4, \"Only helpful\": cm5, \"Only not rated\": cm6})"
      ],
      "execution_count": null,
      "outputs": [
        {
          "output_type": "display_data",
          "data": {
            "image/png": "[encoded data removed]",
            "text/plain": [
              "<Figure size 1080x792 with 7 Axes>"
            ]
          },
          "metadata": {
            "tags": [],
            "needs_background": "light"
          }
        }
      ]
    },
    {
      "cell_type": "code",
      "metadata": {
        "id": "hGJYI2mGPDtZ"
      },
      "source": [
        "class BertEnsemble():\n",
        "\n",
        "  def __init__(self, predictors):\n",
        "    self.predictors = predictors\n",
        "\n",
        "  def predict(self, X):\n",
        "    predictions = self.predict_proba(X)\n",
        "    return np.argmax(predictions, axis=1)\n",
        "\n",
        "  def predict_proba(self, X):\n",
        "    predictions_all = [self.predictors[clf][0].predict(X, return_proba=True) * self.predictors[clf][1] for clf in self.predictors]\n",
        "    return np.sum(predictions_all, axis=0)"
      ],
      "execution_count": null,
      "outputs": []
    },
    {
      "cell_type": "code",
      "metadata": {
        "id": "PNNc70B4Phsv",
        "outputId": "6efa7cc7-a3b2-4e27-f94d-8ac568f27d11",
        "colab": {
          "base_uri": "https://localhost:8080/",
          "height": 115,
          "referenced_widgets": [
            "2f5a9d126b9a492bbae66ec02fc45f57",
            "abb0ecbd4b854ecba42e82141daa89e3",
            "cb9484d6b97041c4ac344c5bcf6d931c",
            "60549ba240af4e578298bfc7b401f9af",
            "f55467092ecc4a78ad7dfdc2dd807109",
            "98122e237e6e42b08ea4d95be5a354a3",
            "2a108e2173944e67bc9a08e133e6e74d",
            "168a9f4eb24349deb369a99fd0bde35b",
            "71e8447401164da0beb3c1a69aa70622",
            "f8feb2a56dcb476da9c4cf346df908b6",
            "46441cfd20af428d8d3c9066e4100956",
            "c0055b1829b44641b2dc4522c03bf4a5",
            "cac0e858532b4b47bfd4ddf048915a08",
            "2e8e6d96ab074f898e18641f6d9e932c",
            "05ee0270614b400f9bd9bb29cdab057f",
            "235510309d4b42248d5d66cf773daa26"
          ]
        }
      },
      "source": [
        "ensemble = BertEnsemble({\"base_line\": [base_line_predictor, 1.3], \"score_balanced\": [score_balanced_predictor, 1], \"only_not_helpful\": [not_helpful_predictor, 0.7]})\n",
        "predictions = ensemble.predict(test.TextClean.values)\n",
        "true_labels = test.Score.values - 1"
      ],
      "execution_count": null,
      "outputs": [
        {
          "output_type": "display_data",
          "data": {
            "application/vnd.jupyter.widget-view+json": {
              "model_id": "2f5a9d126b9a492bbae66ec02fc45f57",
              "version_minor": 0,
              "version_major": 2
            },
            "text/plain": [
              "HBox(children=(FloatProgress(value=0.0, description='Downloading', max=442.0, style=ProgressStyle(description_…"
            ]
          },
          "metadata": {
            "tags": []
          }
        },
        {
          "output_type": "stream",
          "text": [
            "\n"
          ],
          "name": "stdout"
        },
        {
          "output_type": "display_data",
          "data": {
            "application/vnd.jupyter.widget-view+json": {
              "model_id": "71e8447401164da0beb3c1a69aa70622",
              "version_minor": 0,
              "version_major": 2
            },
            "text/plain": [
              "HBox(children=(FloatProgress(value=0.0, description='Downloading', max=231508.0, style=ProgressStyle(descripti…"
            ]
          },
          "metadata": {
            "tags": []
          }
        },
        {
          "output_type": "stream",
          "text": [
            "\n"
          ],
          "name": "stdout"
        },
        {
          "output_type": "display_data",
          "data": {
            "text/html": [
              ""
            ],
            "text/plain": [
              "<IPython.core.display.HTML object>"
            ]
          },
          "metadata": {
            "tags": []
          }
        },
        {
          "output_type": "display_data",
          "data": {
            "text/html": [
              ""
            ],
            "text/plain": [
              "<IPython.core.display.HTML object>"
            ]
          },
          "metadata": {
            "tags": []
          }
        },
        {
          "output_type": "display_data",
          "data": {
            "text/html": [
              ""
            ],
            "text/plain": [
              "<IPython.core.display.HTML object>"
            ]
          },
          "metadata": {
            "tags": []
          }
        }
      ]
    },
    {
      "cell_type": "code",
      "metadata": {
        "id": "ANFhSunMLMJK"
      },
      "source": [
        "comparison = list(map(lambda x: x[0] == x[1], zip(predictions, true_labels)))\n",
        "score = comparison.count(True) / len(true_labels)"
      ],
      "execution_count": null,
      "outputs": []
    },
    {
      "cell_type": "code",
      "metadata": {
        "id": "96LCu5S-sAc8",
        "outputId": "9141acd0-6742-4ffb-c378-861dc61a5b98",
        "colab": {
          "base_uri": "https://localhost:8080/",
          "height": 34
        }
      },
      "source": [
        "score"
      ],
      "execution_count": null,
      "outputs": [
        {
          "output_type": "execute_result",
          "data": {
            "text/plain": [
              "0.7658106197237957"
            ]
          },
          "metadata": {
            "tags": []
          },
          "execution_count": 27
        }
      ]
    },
    {
      "cell_type": "code",
      "metadata": {
        "id": "ZUxt9BqsKzZv"
      },
      "source": [
        "np.save(\"/content/drive/My Drive/Colab Notebooks/predictions2.npy\", predictions)\n",
        "np.save(\"/content/drive/My Drive/Colab Notebooks/true_labels2.npy\", true_labels)"
      ],
      "execution_count": null,
      "outputs": []
    },
    {
      "cell_type": "code",
      "metadata": {
        "id": "xLk5Y4aZQBFe",
        "outputId": "9f3f09f8-d85a-425d-e911-de1ae167e868",
        "colab": {
          "base_uri": "https://localhost:8080/",
          "height": 419
        }
      },
      "source": [
        "confusion_matrix_custom(true_labels, predictions, \"/content/drive/My Drive/Colab Notebooks/confusion_all.pdf\")"
      ],
      "execution_count": null,
      "outputs": [
        {
          "output_type": "display_data",
          "data": {
            "image/png": "[encoded data removed]",
            "text/plain": [
              "<Figure size 504x360 with 2 Axes>"
            ]
          },
          "metadata": {
            "tags": [],
            "needs_background": "light"
          }
        },
        {
          "output_type": "execute_result",
          "data": {
            "text/plain": [
              "array([[0.79167048, 0.09299771, 0.04686499, 0.00778032, 0.0606865 ],\n",
              "       [0.37840909, 0.30633117, 0.20275974, 0.03068182, 0.08181818],\n",
              "       [0.11536718, 0.1362194 , 0.4493427 , 0.1569583 , 0.14211242],\n",
              "       [0.02268431, 0.00933365, 0.10284735, 0.33731096, 0.52782372],\n",
              "       [0.01175861, 0.00116922, 0.00892857, 0.04500159, 0.93314201]])"
            ]
          },
          "metadata": {
            "tags": []
          },
          "execution_count": 29
        }
      ]
    }
  ]
}