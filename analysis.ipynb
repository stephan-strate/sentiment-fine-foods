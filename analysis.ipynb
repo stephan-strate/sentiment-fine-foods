{
  "nbformat": 4,
  "nbformat_minor": 0,
  "metadata": {
    "colab": {
      "name": "Sentiment Fine Foods using BERT",
      "provenance": [],
      "collapsed_sections": [],
      "mount_file_id": "1mSFvtWSJ18ew0FssMYePG1bmdq2a2zf-",
      "authorship_tag": "ABX9TyO985/ls9cGIauVW+GxKYBm",
      "include_colab_link": true
    },
    "kernelspec": {
      "name": "python3",
      "display_name": "Python 3"
    }
  },
  "cells": [
    {
      "cell_type": "markdown",
      "metadata": {
        "id": "view-in-github",
        "colab_type": "text"
      },
      "source": [
        "<a href=\"https://colab.research.google.com/github/stephan-strate/sentiment-fine-foods/blob/master/analysis.ipynb\" target=\"_parent\"><img src=\"https://colab.research.google.com/assets/colab-badge.svg\" alt=\"Open In Colab\"/></a>"
      ]
    },
    {
      "cell_type": "code",
      "metadata": {
        "id": "xFFqwMhnXTrq",
        "colab_type": "code",
        "colab": {}
      },
      "source": [
        "import pandas as pd\n",
        "import numpy as np"
      ],
      "execution_count": 13,
      "outputs": []
    },
    {
      "cell_type": "code",
      "metadata": {
        "id": "3g1mkypcX3dy",
        "colab_type": "code",
        "colab": {
          "base_uri": "https://localhost:8080/",
          "height": 34
        },
        "outputId": "444a8ea6-a473-4e38-9a4c-ec6683b3193b"
      },
      "source": [
        "df = pd.read_csv(\"/content/drive/My Drive/Colab Notebooks/data/sentiment-fine-foods/sentiment-fine-foods.csv\", delimiter=\",\", header=0)\n",
        "print(\"Dataset has {:,} rows\".format(df.shape[0]))"
      ],
      "execution_count": 11,
      "outputs": [
        {
          "output_type": "stream",
          "text": [
            "Dataset has 568,454 rows\n"
          ],
          "name": "stdout"
        }
      ]
    },
    {
      "cell_type": "code",
      "metadata": {
        "id": "PMaVeb87jTFq",
        "colab_type": "code",
        "colab": {
          "base_uri": "https://localhost:8080/",
          "height": 204
        },
        "outputId": "37ebaa5d-9fbc-41ab-9c69-413fbe5db4a0"
      },
      "source": [
        "df[[\"HelpfulnessNumerator\", \"HelpfulnessDenominator\", \"Score\", \"Text\"]].sample(5)"
      ],
      "execution_count": 8,
      "outputs": [
        {
          "output_type": "execute_result",
          "data": {
            "text/html": [
              "<div>\n",
              "<style scoped>\n",
              "    .dataframe tbody tr th:only-of-type {\n",
              "        vertical-align: middle;\n",
              "    }\n",
              "\n",
              "    .dataframe tbody tr th {\n",
              "        vertical-align: top;\n",
              "    }\n",
              "\n",
              "    .dataframe thead th {\n",
              "        text-align: right;\n",
              "    }\n",
              "</style>\n",
              "<table border=\"1\" class=\"dataframe\">\n",
              "  <thead>\n",
              "    <tr style=\"text-align: right;\">\n",
              "      <th></th>\n",
              "      <th>HelpfulnessNumerator</th>\n",
              "      <th>HelpfulnessDenominator</th>\n",
              "      <th>Score</th>\n",
              "      <th>Text</th>\n",
              "    </tr>\n",
              "  </thead>\n",
              "  <tbody>\n",
              "    <tr>\n",
              "      <th>212446</th>\n",
              "      <td>0</td>\n",
              "      <td>0</td>\n",
              "      <td>5</td>\n",
              "      <td>I absolutely LOVE this seasoning! It is the be...</td>\n",
              "    </tr>\n",
              "    <tr>\n",
              "      <th>251938</th>\n",
              "      <td>0</td>\n",
              "      <td>0</td>\n",
              "      <td>2</td>\n",
              "      <td>I was trying these as a change of pace from th...</td>\n",
              "    </tr>\n",
              "    <tr>\n",
              "      <th>536710</th>\n",
              "      <td>0</td>\n",
              "      <td>0</td>\n",
              "      <td>5</td>\n",
              "      <td>a gasp from my past. i can't believe these are...</td>\n",
              "    </tr>\n",
              "    <tr>\n",
              "      <th>169822</th>\n",
              "      <td>0</td>\n",
              "      <td>0</td>\n",
              "      <td>5</td>\n",
              "      <td>These have such delicious flavor, it is really...</td>\n",
              "    </tr>\n",
              "    <tr>\n",
              "      <th>388079</th>\n",
              "      <td>0</td>\n",
              "      <td>0</td>\n",
              "      <td>2</td>\n",
              "      <td>What we expected:  That the corn beef was exac...</td>\n",
              "    </tr>\n",
              "  </tbody>\n",
              "</table>\n",
              "</div>"
            ],
            "text/plain": [
              "        HelpfulnessNumerator  ...                                               Text\n",
              "212446                     0  ...  I absolutely LOVE this seasoning! It is the be...\n",
              "251938                     0  ...  I was trying these as a change of pace from th...\n",
              "536710                     0  ...  a gasp from my past. i can't believe these are...\n",
              "169822                     0  ...  These have such delicious flavor, it is really...\n",
              "388079                     0  ...  What we expected:  That the corn beef was exac...\n",
              "\n",
              "[5 rows x 4 columns]"
            ]
          },
          "metadata": {
            "tags": []
          },
          "execution_count": 8
        }
      ]
    },
    {
      "cell_type": "markdown",
      "metadata": {
        "id": "S6o-XrrPXbhV",
        "colab_type": "text"
      },
      "source": [
        "Clean data for future use with BERT\n",
        "1. clean HTML tags from texts to prevent bloating of tokenizer, as BERT does not know HTML tags\n",
        "2. remove duplicate reviews (using Text column)"
      ]
    },
    {
      "cell_type": "code",
      "metadata": {
        "id": "67Jji6LRXuCK",
        "colab_type": "code",
        "colab": {
          "base_uri": "https://localhost:8080/",
          "height": 51
        },
        "outputId": "371e67cd-bf79-4c78-f8b8-41cebba70d10"
      },
      "source": [
        "import re\n",
        "\n",
        "size_dataset = len(df.index)\n",
        "\n",
        "html_affected_rows = 0\n",
        "def cleanhtml(raw_html):\n",
        "  cleanr = re.compile('<.*?>')\n",
        "  cleantext = re.sub(cleanr, '', raw_html)\n",
        "  if raw_html != cleantext:\n",
        "    global html_affected_rows\n",
        "    html_affected_rows += 1\n",
        "  return cleantext\n",
        "\n",
        "# clean html content of texts\n",
        "df.Text = df.Text.apply(cleanhtml)\n",
        "print(\"Cleaned {:,} rows from html ({} %)\".format(html_affected_rows, round(html_affected_rows / size_dataset * 100)))\n",
        "\n",
        "# removing duplicates\n",
        "df.drop_duplicates(subset=\"Text\", inplace=True)\n",
        "rows_removed = size_dataset - len(df.index)\n",
        "print(\"Removed {:,} duplicates ({} %)\".format(rows_removed, round(rows_removed / size_dataset * 100)))"
      ],
      "execution_count": 12,
      "outputs": [
        {
          "output_type": "stream",
          "text": [
            "Cleaned 147,324 rows from html (26 %)\n",
            "Removed 174,900 duplicates (31 %)\n"
          ],
          "name": "stdout"
        }
      ]
    },
    {
      "cell_type": "code",
      "metadata": {
        "id": "dz5Kxwt7-i87",
        "colab_type": "code",
        "colab": {
          "base_uri": "https://localhost:8080/",
          "height": 34
        },
        "outputId": "ea6363e0-35cf-40e1-bc2f-df3ecefcf278"
      },
      "source": [
        "print(\"Dataset size after cleaning: {:,} / {:,} rows ({} %)\".format(len(df.index), size_dataset, round(len(df.index) / size_dataset * 100)))"
      ],
      "execution_count": 15,
      "outputs": [
        {
          "output_type": "stream",
          "text": [
            "Dataset size after cleaning: 393,554 / 568,454 rows (69 %)\n"
          ],
          "name": "stdout"
        }
      ]
    },
    {
      "cell_type": "markdown",
      "metadata": {
        "id": "Ild1RcxjQM89",
        "colab_type": "text"
      },
      "source": [
        "Analyse data regarding helpfulness"
      ]
    },
    {
      "cell_type": "code",
      "metadata": {
        "id": "EVvI93YUPY2L",
        "colab_type": "code",
        "colab": {
          "base_uri": "https://localhost:8080/",
          "height": 385
        },
        "outputId": "efde2d2b-02e6-4e4f-a4b8-cc62561e09a3"
      },
      "source": [
        "import matplotlib.pyplot as plt\n",
        "import statistics\n",
        "\n",
        "label_values = set(data.Score.values)\n",
        "\n",
        "fig, axs = plt.subplots(1, 3, constrained_layout=True, figsize=(10, 5))\n",
        "\n",
        "label_value_counts = data.Score.value_counts()\n",
        "axs[0].bar(list(map(str, label_values)), list(map(lambda x: label_value_counts.get(x) / len(data.index), label_values)))\n",
        "axs[0].set_title(\"Reviews\")\n",
        "axs[0].set_xlabel(\"Scores\")\n",
        "axs[0].set_ylabel(\"Relative count\")\n",
        "\n",
        "def mean_helpfulness(label):\n",
        "  subset = data[data.Score.eq(label)]\n",
        "  return statistics.mean(filter(lambda x: x is not None, map(lambda index: index.HelpfulnessNumerator / index.HelpfulnessDenominator if index.HelpfulnessDenominator > 0 else None, subset.itertuples(index=True))))\n",
        "\n",
        "axs[1].bar(list(map(str, label_values)), list(map(mean_helpfulness, label_values)))\n",
        "axs[1].set_title(\"Helpfulness\")\n",
        "axs[1].set_xlabel(\"Scores\")\n",
        "axs[1].set_ylabel(\"Mean\")\n",
        "\n",
        "def count_helpful(label):\n",
        "  subset = data[data.Score.eq(label)]\n",
        "  return sum(map(lambda index: index.HelpfulnessDenominator, subset.itertuples(index=True))) / len(subset.values)\n",
        "\n",
        "axs[2].bar(list(map(str, label_values)), list(map(count_helpful, label_values)))\n",
        "axs[2].set_title(\"Helpfulness\")\n",
        "axs[2].set_xlabel(\"Scores\")\n",
        "axs[2].set_ylabel(\"Mean count / review\")\n",
        "\n",
        "plt.show()"
      ],
      "execution_count": null,
      "outputs": [
        {
          "output_type": "display_data",
          "data": {
            "image/png": "[encoded data removed]",
            "text/plain": [
              "<Figure size 720x360 with 3 Axes>"
            ]
          },
          "metadata": {
            "tags": [],
            "needs_background": "light"
          }
        }
      ]
    },
    {
      "cell_type": "code",
      "metadata": {
        "id": "Z5sC47QwPfd5",
        "colab_type": "code",
        "colab": {
          "base_uri": "https://localhost:8080/",
          "height": 295
        },
        "outputId": "3ca0c924-dc8a-46ed-d4ca-0b26ef8f726c"
      },
      "source": [
        "groups = data.groupby(\"Score\")\n",
        "\n",
        "plt.bar(list(map(str, label_values)), list(map(lambda x: np.mean(list(map(lambda y: len(y.split(\" \")), x[1].Text.values))), groups)))\n",
        "plt.xlabel(\"Score\")\n",
        "plt.ylabel(\"Mean word count\")\n",
        "plt.title(\"Review length by score\")\n",
        "plt.show()"
      ],
      "execution_count": null,
      "outputs": [
        {
          "output_type": "display_data",
          "data": {
            "image/png": "[encoded data removed]",
            "text/plain": [
              "<Figure size 432x288 with 1 Axes>"
            ]
          },
          "metadata": {
            "tags": [],
            "needs_background": "light"
          }
        }
      ]
    },
    {
      "cell_type": "code",
      "metadata": {
        "id": "KCOiO3q-MMl1",
        "colab_type": "code",
        "colab": {
          "base_uri": "https://localhost:8080/",
          "height": 295
        },
        "outputId": "faa22e30-c12a-4172-8b91-c279f7502bf6"
      },
      "source": [
        "plt.hist(list(map(lambda x: len(x.split(\" \")), data.Text.values)), range=(0, 200), bins=20)\n",
        "plt.xlabel(\"Word count\")\n",
        "plt.ylabel(\"Count\")\n",
        "plt.title(\"Review length distribution\")\n",
        "plt.show()"
      ],
      "execution_count": null,
      "outputs": [
        {
          "output_type": "display_data",
          "data": {
            "image/png": "[encoded data removed]",
            "text/plain": [
              "<Figure size 432x288 with 1 Axes>"
            ]
          },
          "metadata": {
            "tags": [],
            "needs_background": "light"
          }
        }
      ]
    },
    {
      "cell_type": "code",
      "metadata": {
        "id": "S0R1CirVeNZb",
        "colab_type": "code",
        "colab": {
          "base_uri": "https://localhost:8080/",
          "height": 34
        },
        "outputId": "fcba4e3c-1889-4a0e-d1a4-855f94f94417"
      },
      "source": [
        "data_helpful = data[(data.HelpfulnessDenominator > 0) & (data.HelpfulnessNumerator / data.HelpfulnessDenominator > 0.5)]\n",
        "data_helpful.shape"
      ],
      "execution_count": null,
      "outputs": [
        {
          "output_type": "execute_result",
          "data": {
            "text/plain": [
              "(161210, 10)"
            ]
          },
          "metadata": {
            "tags": []
          },
          "execution_count": 11
        }
      ]
    },
    {
      "cell_type": "code",
      "metadata": {
        "id": "q9akkOtffiDx",
        "colab_type": "code",
        "colab": {
          "base_uri": "https://localhost:8080/",
          "height": 313
        },
        "outputId": "0b22692c-8e1b-40de-dea5-e2e4b7658262"
      },
      "source": [
        "fig, axs = plt.subplots(1, 3, constrained_layout=True)\n",
        "\n",
        "label_value_counts = data_helpful.Score.value_counts()\n",
        "axs[0].bar(list(map(str, label_values)), list(map(lambda x: label_value_counts.get(x) / len(data_helpful.index), label_values)), color=[\"red\", \"orange\", \"black\", \"green\", \"green\"])\n",
        "axs[0].set_title(\"Reviews\")\n",
        "axs[0].set_xlabel(\"Scores\")\n",
        "axs[0].set_ylabel(\"Relative count\")\n",
        "\n",
        "def mean_helpfulness(label):\n",
        "  subset = data_helpful[data_helpful.Score.eq(label)]\n",
        "  return statistics.mean(filter(lambda x: x is not None, map(lambda index: index.HelpfulnessNumerator / index.HelpfulnessDenominator if index.HelpfulnessDenominator > 0 else None, subset.itertuples(index=True))))\n",
        "\n",
        "axs[1].bar(list(map(str, label_values)), list(map(mean_helpfulness, label_values)))\n",
        "axs[1].set_title(\"Helpfulness\")\n",
        "axs[1].set_xlabel(\"Scores\")\n",
        "axs[1].set_ylabel(\"Mean\")\n",
        "\n",
        "def count_helpful(label):\n",
        "  subset = data_helpful[data_helpful.Score.eq(label)]\n",
        "  return sum(map(lambda index: index.HelpfulnessDenominator, subset.itertuples(index=True))) / len(subset.values)\n",
        "\n",
        "axs[2].bar(list(map(str, label_values)), list(map(count_helpful, label_values)))\n",
        "axs[2].set_title(\"Helpfulness\")\n",
        "axs[2].set_xlabel(\"Scores\")\n",
        "axs[2].set_ylabel(\"Mean count / review\")\n",
        "\n",
        "plt.show()"
      ],
      "execution_count": null,
      "outputs": [
        {
          "output_type": "display_data",
          "data": {
            "image/png": "[encoded data removed]",
            "text/plain": [
              "<Figure size 432x288 with 3 Axes>"
            ]
          },
          "metadata": {
            "tags": [],
            "needs_background": "light"
          }
        }
      ]
    },
    {
      "cell_type": "code",
      "metadata": {
        "id": "uCXwYdM1e9vs",
        "colab_type": "code",
        "colab": {
          "base_uri": "https://localhost:8080/",
          "height": 34
        },
        "outputId": "c025c258-b296-4319-b700-f9818fb0a328"
      },
      "source": [
        "data_not_helpful = data[(data.HelpfulnessDenominator > 0) & (data.HelpfulnessNumerator / data.HelpfulnessDenominator <= 0.5)]\n",
        "data_not_helpful.shape"
      ],
      "execution_count": null,
      "outputs": [
        {
          "output_type": "execute_result",
          "data": {
            "text/plain": [
              "(47873, 10)"
            ]
          },
          "metadata": {
            "tags": []
          },
          "execution_count": 24
        }
      ]
    },
    {
      "cell_type": "code",
      "metadata": {
        "id": "QzF2EIVZf0lh",
        "colab_type": "code",
        "colab": {
          "base_uri": "https://localhost:8080/",
          "height": 313
        },
        "outputId": "1467c150-a9a3-473d-f697-a9e9b5853899"
      },
      "source": [
        "fig, axs = plt.subplots(1, 3, constrained_layout=True)\n",
        "\n",
        "label_value_counts = data_not_helpful.Score.value_counts()\n",
        "axs[0].bar(list(map(str, label_values)), list(map(lambda x: label_value_counts.get(x) / len(data_not_helpful.index), label_values)), color=[\"red\", \"orange\", \"black\", \"green\", \"green\"])\n",
        "axs[0].set_title(\"Reviews\")\n",
        "axs[0].set_xlabel(\"Scores\")\n",
        "axs[0].set_ylabel(\"Relative count\")\n",
        "\n",
        "def mean_helpfulness(label):\n",
        "  subset = data_not_helpful[data_not_helpful.Score.eq(label)]\n",
        "  return statistics.mean(filter(lambda x: x is not None, map(lambda index: index.HelpfulnessNumerator / index.HelpfulnessDenominator if index.HelpfulnessDenominator > 0 else None, subset.itertuples(index=True))))\n",
        "\n",
        "axs[1].bar(list(map(str, label_values)), list(map(mean_helpfulness, label_values)))\n",
        "axs[1].set_title(\"Helpfulness\")\n",
        "axs[1].set_xlabel(\"Scores\")\n",
        "axs[1].set_ylabel(\"Mean\")\n",
        "\n",
        "def count_helpful(label):\n",
        "  subset = data_not_helpful[data_not_helpful.Score.eq(label)]\n",
        "  return sum(map(lambda index: index.HelpfulnessDenominator, subset.itertuples(index=True))) / len(subset.values)\n",
        "\n",
        "axs[2].bar(list(map(str, label_values)), list(map(count_helpful, label_values)))\n",
        "axs[2].set_title(\"Helpfulness\")\n",
        "axs[2].set_xlabel(\"Scores\")\n",
        "axs[2].set_ylabel(\"Mean count / review\")\n",
        "\n",
        "plt.show()"
      ],
      "execution_count": null,
      "outputs": [
        {
          "output_type": "display_data",
          "data": {
            "image/png": "[encoded data removed]",
            "text/plain": [
              "<Figure size 432x288 with 3 Axes>"
            ]
          },
          "metadata": {
            "tags": [],
            "needs_background": "light"
          }
        }
      ]
    }
  ]
}