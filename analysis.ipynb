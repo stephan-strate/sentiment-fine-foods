{
  "nbformat": 4,
  "nbformat_minor": 0,
  "metadata": {
    "colab": {
      "name": "Amazon Fine Food dataset analysis",
      "provenance": [],
      "collapsed_sections": [],
      "mount_file_id": "1SNsqNDWMVE_7rAZ-HOxOMSxpZ2G0ROh8",
      "authorship_tag": "ABX9TyM5MBkIb5ZHeyS0ajv3HtMZ",
      "include_colab_link": true
    },
    "kernelspec": {
      "name": "python3",
      "display_name": "Python 3"
    }
  },
  "cells": [
    {
      "cell_type": "markdown",
      "metadata": {
        "id": "view-in-github",
        "colab_type": "text"
      },
      "source": [
        "<a href=\"https://colab.research.google.com/github/stephan-strate/sentiment-fine-foods/blob/master/analysis.ipynb\" target=\"_parent\"><img src=\"https://colab.research.google.com/assets/colab-badge.svg\" alt=\"Open In Colab\"/></a>"
      ]
    },
    {
      "cell_type": "code",
      "metadata": {
        "id": "xFFqwMhnXTrq",
        "colab_type": "code",
        "colab": {}
      },
      "source": [
        "import pandas as pd\n",
        "import numpy as np\n",
        "\n",
        "import re\n",
        "import matplotlib.pyplot as plt\n",
        "import statistics"
      ],
      "execution_count": 1,
      "outputs": []
    },
    {
      "cell_type": "code",
      "metadata": {
        "id": "3g1mkypcX3dy",
        "colab_type": "code",
        "colab": {
          "base_uri": "https://localhost:8080/",
          "height": 34
        },
        "outputId": "b9f002d4-d826-4e4b-96c9-9f3be6f7653c"
      },
      "source": [
        "df = pd.read_csv(\"/content/drive/My Drive/Colab Notebooks/data/sentiment-fine-foods/sentiment-fine-foods.csv\", delimiter=\",\", header=0)\n",
        "print(\"Dataset has {:,} rows\".format(df.shape[0]))"
      ],
      "execution_count": 3,
      "outputs": [
        {
          "output_type": "stream",
          "text": [
            "Dataset has 568,454 rows\n"
          ],
          "name": "stdout"
        }
      ]
    },
    {
      "cell_type": "code",
      "metadata": {
        "id": "PMaVeb87jTFq",
        "colab_type": "code",
        "colab": {
          "base_uri": "https://localhost:8080/",
          "height": 204
        },
        "outputId": "6e7857ab-e324-4aad-9a81-866060d1592c"
      },
      "source": [
        "df[[\"HelpfulnessNumerator\", \"HelpfulnessDenominator\", \"Score\", \"Text\"]].sample(5)"
      ],
      "execution_count": 4,
      "outputs": [
        {
          "output_type": "execute_result",
          "data": {
            "text/html": [
              "<div>\n",
              "<style scoped>\n",
              "    .dataframe tbody tr th:only-of-type {\n",
              "        vertical-align: middle;\n",
              "    }\n",
              "\n",
              "    .dataframe tbody tr th {\n",
              "        vertical-align: top;\n",
              "    }\n",
              "\n",
              "    .dataframe thead th {\n",
              "        text-align: right;\n",
              "    }\n",
              "</style>\n",
              "<table border=\"1\" class=\"dataframe\">\n",
              "  <thead>\n",
              "    <tr style=\"text-align: right;\">\n",
              "      <th></th>\n",
              "      <th>HelpfulnessNumerator</th>\n",
              "      <th>HelpfulnessDenominator</th>\n",
              "      <th>Score</th>\n",
              "      <th>Text</th>\n",
              "    </tr>\n",
              "  </thead>\n",
              "  <tbody>\n",
              "    <tr>\n",
              "      <th>87820</th>\n",
              "      <td>1</td>\n",
              "      <td>2</td>\n",
              "      <td>3</td>\n",
              "      <td>I reluctantly give this a 3 due mainly to the ...</td>\n",
              "    </tr>\n",
              "    <tr>\n",
              "      <th>114402</th>\n",
              "      <td>2</td>\n",
              "      <td>2</td>\n",
              "      <td>5</td>\n",
              "      <td>My family has been eating Molinari salame and ...</td>\n",
              "    </tr>\n",
              "    <tr>\n",
              "      <th>283816</th>\n",
              "      <td>1</td>\n",
              "      <td>1</td>\n",
              "      <td>5</td>\n",
              "      <td>Originally bought some of this in a store but ...</td>\n",
              "    </tr>\n",
              "    <tr>\n",
              "      <th>170087</th>\n",
              "      <td>3</td>\n",
              "      <td>3</td>\n",
              "      <td>5</td>\n",
              "      <td>These taste exactly the same as the ones that ...</td>\n",
              "    </tr>\n",
              "    <tr>\n",
              "      <th>134326</th>\n",
              "      <td>0</td>\n",
              "      <td>0</td>\n",
              "      <td>5</td>\n",
              "      <td>Great product. no complaints. Shipping was fas...</td>\n",
              "    </tr>\n",
              "  </tbody>\n",
              "</table>\n",
              "</div>"
            ],
            "text/plain": [
              "        HelpfulnessNumerator  ...                                               Text\n",
              "87820                      1  ...  I reluctantly give this a 3 due mainly to the ...\n",
              "114402                     2  ...  My family has been eating Molinari salame and ...\n",
              "283816                     1  ...  Originally bought some of this in a store but ...\n",
              "170087                     3  ...  These taste exactly the same as the ones that ...\n",
              "134326                     0  ...  Great product. no complaints. Shipping was fas...\n",
              "\n",
              "[5 rows x 4 columns]"
            ]
          },
          "metadata": {
            "tags": []
          },
          "execution_count": 4
        }
      ]
    },
    {
      "cell_type": "markdown",
      "metadata": {
        "id": "S6o-XrrPXbhV",
        "colab_type": "text"
      },
      "source": [
        "Clean data for future use with BERT\n",
        "1. clean HTML tags from texts to prevent bloating of tokenizer, as BERT does not know HTML tags\n",
        "2. remove duplicate reviews (using Text column)"
      ]
    },
    {
      "cell_type": "code",
      "metadata": {
        "id": "67Jji6LRXuCK",
        "colab_type": "code",
        "colab": {
          "base_uri": "https://localhost:8080/",
          "height": 51
        },
        "outputId": "28d165cd-fe01-4e80-d7cc-59dec1808e9c"
      },
      "source": [
        "size_dataset = len(df.index)\n",
        "\n",
        "html_affected_rows = 0\n",
        "def cleanhtml(raw_html):\n",
        "  cleanr = re.compile('<.*?>')\n",
        "  cleantext = re.sub(cleanr, '', raw_html)\n",
        "  if raw_html != cleantext:\n",
        "    global html_affected_rows\n",
        "    html_affected_rows += 1\n",
        "  return cleantext\n",
        "\n",
        "# clean html content of texts\n",
        "df.Text = df.Text.apply(cleanhtml)\n",
        "print(\"Cleaned {:,} rows from html ({} %)\".format(html_affected_rows, round(html_affected_rows / size_dataset * 100)))\n",
        "\n",
        "# removing duplicates\n",
        "df.drop_duplicates(subset=\"Text\", inplace=True)\n",
        "rows_removed = size_dataset - len(df.index)\n",
        "print(\"Removed {:,} duplicates ({} %)\".format(rows_removed, round(rows_removed / size_dataset * 100)))"
      ],
      "execution_count": 5,
      "outputs": [
        {
          "output_type": "stream",
          "text": [
            "Cleaned 147,324 rows from html (26 %)\n",
            "Removed 174,900 duplicates (31 %)\n"
          ],
          "name": "stdout"
        }
      ]
    },
    {
      "cell_type": "code",
      "metadata": {
        "id": "dz5Kxwt7-i87",
        "colab_type": "code",
        "colab": {
          "base_uri": "https://localhost:8080/",
          "height": 34
        },
        "outputId": "0a809539-ee9c-4198-ef5c-695dc1c57d4d"
      },
      "source": [
        "print(\"Dataset size after cleaning: {:,} / {:,} rows ({} %)\".format(len(df.index), size_dataset, round(len(df.index) / size_dataset * 100)))"
      ],
      "execution_count": 6,
      "outputs": [
        {
          "output_type": "stream",
          "text": [
            "Dataset size after cleaning: 393,554 / 568,454 rows (69 %)\n"
          ],
          "name": "stdout"
        }
      ]
    },
    {
      "cell_type": "markdown",
      "metadata": {
        "id": "Ild1RcxjQM89",
        "colab_type": "text"
      },
      "source": [
        "Analyse data regarding helpfulness"
      ]
    },
    {
      "cell_type": "code",
      "metadata": {
        "id": "EVvI93YUPY2L",
        "colab_type": "code",
        "colab": {
          "base_uri": "https://localhost:8080/",
          "height": 385
        },
        "outputId": "fba597ef-a5ea-413d-fb5b-38304d0a0149"
      },
      "source": [
        "label_values = set(df.Score.values)\n",
        "\n",
        "fig, axs = plt.subplots(1, 3, constrained_layout=True, figsize=(10, 5))\n",
        "\n",
        "label_value_counts = df.Score.value_counts()\n",
        "axs[0].bar(list(map(str, label_values)), list(map(lambda x: label_value_counts.get(x) / len(df.index), label_values)))\n",
        "axs[0].set_title(\"Reviews\")\n",
        "axs[0].set_xlabel(\"Scores\")\n",
        "axs[0].set_ylabel(\"Relative count\")\n",
        "\n",
        "def mean_helpfulness(label):\n",
        "  subset = df[df.Score.eq(label)]\n",
        "  return statistics.mean(filter(lambda x: x is not None, map(lambda index: index.HelpfulnessNumerator / index.HelpfulnessDenominator if index.HelpfulnessDenominator > 0 else None, subset.itertuples(index=True))))\n",
        "\n",
        "axs[1].bar(list(map(str, label_values)), list(map(mean_helpfulness, label_values)))\n",
        "axs[1].set_title(\"Helpfulness\")\n",
        "axs[1].set_xlabel(\"Scores\")\n",
        "axs[1].set_ylabel(\"Mean\")\n",
        "\n",
        "def count_helpful(label):\n",
        "  subset = df[df.Score.eq(label)]\n",
        "  return sum(map(lambda index: index.HelpfulnessDenominator, subset.itertuples(index=True))) / len(subset.values)\n",
        "\n",
        "axs[2].bar(list(map(str, label_values)), list(map(count_helpful, label_values)))\n",
        "axs[2].set_title(\"Helpfulness\")\n",
        "axs[2].set_xlabel(\"Scores\")\n",
        "axs[2].set_ylabel(\"Mean count / review\")\n",
        "\n",
        "plt.show()"
      ],
      "execution_count": 8,
      "outputs": [
        {
          "output_type": "display_data",
          "data": {
            "image/png": "[encoded data removed]",
            "text/plain": [
              "<Figure size 720x360 with 3 Axes>"
            ]
          },
          "metadata": {
            "tags": [],
            "needs_background": "light"
          }
        }
      ]
    },
    {
      "cell_type": "markdown",
      "metadata": {
        "id": "slpL1NTcV-S0",
        "colab_type": "text"
      },
      "source": [
        "For BERT it is important to determine a plausible input length of word embeddings. That is why we need to take a look at some statistics about review length (word count).\n",
        "\n",
        "We will overestimate the input token length in this case, because the input will probably contain some unknown words and therefore the tokenizer will split words into multiple parts.\n",
        "\n",
        "**Length:** 128"
      ]
    },
    {
      "cell_type": "code",
      "metadata": {
        "id": "Z5sC47QwPfd5",
        "colab_type": "code",
        "colab": {
          "base_uri": "https://localhost:8080/",
          "height": 295
        },
        "outputId": "0b0bd456-219f-48db-dc45-8f4e129ddfb1"
      },
      "source": [
        "groups = df.groupby(\"Score\")\n",
        "\n",
        "plt.bar(list(map(str, label_values)), list(map(lambda x: np.mean(list(map(lambda y: len(y.split(\" \")), x[1].Text.values))), groups)))\n",
        "plt.xlabel(\"Score\")\n",
        "plt.ylabel(\"Mean word count\")\n",
        "plt.title(\"Review length by score\")\n",
        "plt.show()"
      ],
      "execution_count": 10,
      "outputs": [
        {
          "output_type": "display_data",
          "data": {
            "image/png": "[encoded data removed]",
            "text/plain": [
              "<Figure size 432x288 with 1 Axes>"
            ]
          },
          "metadata": {
            "tags": [],
            "needs_background": "light"
          }
        }
      ]
    },
    {
      "cell_type": "code",
      "metadata": {
        "id": "KCOiO3q-MMl1",
        "colab_type": "code",
        "colab": {
          "base_uri": "https://localhost:8080/",
          "height": 312
        },
        "outputId": "a8bcf25a-bfa4-4a55-f016-9e5ce1b1fa40"
      },
      "source": [
        "word_counts = np.array(list(map(lambda x: len(x.split(\" \")), df.Text.values)))\n",
        "plt.hist(word_counts, range=(0, 256), bins=24)\n",
        "plt.axvline(word_counts.mean(), color=\"k\", linestyle=\"dashed\")\n",
        "\n",
        "plt.xlabel(\"Word count\")\n",
        "plt.ylabel(\"Count\")\n",
        "plt.title(\"Review length distribution\")\n",
        "plt.show()\n",
        "\n",
        "print(\"Mean review word count: {} tokens\".format(word_counts.mean()))"
      ],
      "execution_count": 19,
      "outputs": [
        {
          "output_type": "display_data",
          "data": {
            "image/png": "[encoded data removed]",
            "text/plain": [
              "<Figure size 432x288 with 1 Axes>"
            ]
          },
          "metadata": {
            "tags": [],
            "needs_background": "light"
          }
        },
        {
          "output_type": "stream",
          "text": [
            "Mean review word count: 80.3254470796892 tokens\n"
          ],
          "name": "stdout"
        }
      ]
    }
  ]
}